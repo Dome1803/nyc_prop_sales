{
 "cells": [
  {
   "cell_type": "markdown",
   "metadata": {},
   "source": [
    "# CSV-Datei importieren"
   ]
  },
  {
   "cell_type": "code",
   "execution_count": 1,
   "metadata": {},
   "outputs": [],
   "source": [
    "import pandas as pd\n",
    "import numpy as np"
   ]
  },
  {
   "cell_type": "code",
   "execution_count": 2,
   "metadata": {},
   "outputs": [
    {
     "name": "stdout",
     "output_type": "stream",
     "text": [
      "       Unnamed: 0  BOROUGH   NEIGHBORHOOD  \\\n",
      "0               4        1  ALPHABET CITY   \n",
      "1               5        1  ALPHABET CITY   \n",
      "2               6        1  ALPHABET CITY   \n",
      "3               7        1  ALPHABET CITY   \n",
      "4               8        1  ALPHABET CITY   \n",
      "...           ...      ...            ...   \n",
      "84543        8409        5        WOODROW   \n",
      "84544        8410        5        WOODROW   \n",
      "84545        8411        5        WOODROW   \n",
      "84546        8412        5        WOODROW   \n",
      "84547        8413        5        WOODROW   \n",
      "\n",
      "                           BUILDING CLASS CATEGORY TAX CLASS AT PRESENT  \\\n",
      "0      07 RENTALS - WALKUP APARTMENTS                                2A   \n",
      "1      07 RENTALS - WALKUP APARTMENTS                                 2   \n",
      "2      07 RENTALS - WALKUP APARTMENTS                                 2   \n",
      "3      07 RENTALS - WALKUP APARTMENTS                                2B   \n",
      "4      07 RENTALS - WALKUP APARTMENTS                                2A   \n",
      "...                                            ...                  ...   \n",
      "84543  02 TWO FAMILY DWELLINGS                                        1   \n",
      "84544  02 TWO FAMILY DWELLINGS                                        1   \n",
      "84545  02 TWO FAMILY DWELLINGS                                        1   \n",
      "84546  22 STORE BUILDINGS                                             4   \n",
      "84547  35 INDOOR PUBLIC AND CULTURAL FACILITIES                       4   \n",
      "\n",
      "       BLOCK  LOT EASE-MENT BUILDING CLASS AT PRESENT                 ADDRESS  \\\n",
      "0        392    6                                  C2            153 AVENUE B   \n",
      "1        399   26                                  C7   234 EAST 4TH   STREET   \n",
      "2        399   39                                  C7   197 EAST 3RD   STREET   \n",
      "3        402   21                                  C4     154 EAST 7TH STREET   \n",
      "4        404   55                                  C2  301 EAST 10TH   STREET   \n",
      "...      ...  ...       ...                       ...                     ...   \n",
      "84543   7349   34                                  B9           37 QUAIL LANE   \n",
      "84544   7349   78                                  B9        32 PHEASANT LANE   \n",
      "84545   7351   60                                  B2        49 PITNEY AVENUE   \n",
      "84546   7100   28                                  K6   2730 ARTHUR KILL ROAD   \n",
      "84547   7105  679                                  P9       155 CLAY PIT ROAD   \n",
      "\n",
      "       ... RESIDENTIAL UNITS  COMMERCIAL UNITS  TOTAL UNITS  LAND SQUARE FEET  \\\n",
      "0      ...                 5                 0            5              1633   \n",
      "1      ...                28                 3           31              4616   \n",
      "2      ...                16                 1           17              2212   \n",
      "3      ...                10                 0           10              2272   \n",
      "4      ...                 6                 0            6              2369   \n",
      "...    ...               ...               ...          ...               ...   \n",
      "84543  ...                 2                 0            2              2400   \n",
      "84544  ...                 2                 0            2              2498   \n",
      "84545  ...                 2                 0            2              4000   \n",
      "84546  ...                 0                 7            7            208033   \n",
      "84547  ...                 0                 1            1             10796   \n",
      "\n",
      "       GROSS SQUARE FEET YEAR BUILT TAX CLASS AT TIME OF SALE  \\\n",
      "0                   6440       1900                         2   \n",
      "1                  18690       1900                         2   \n",
      "2                   7803       1900                         2   \n",
      "3                   6794       1913                         2   \n",
      "4                   4615       1900                         2   \n",
      "...                  ...        ...                       ...   \n",
      "84543               2575       1998                         1   \n",
      "84544               2377       1998                         1   \n",
      "84545               1496       1925                         1   \n",
      "84546              64117       2001                         4   \n",
      "84547               2400       2006                         4   \n",
      "\n",
      "       BUILDING CLASS AT TIME OF SALE  SALE PRICE            SALE DATE  \n",
      "0                                  C2     6625000  2017-07-19 00:00:00  \n",
      "1                                  C7         -    2016-12-14 00:00:00  \n",
      "2                                  C7         -    2016-12-09 00:00:00  \n",
      "3                                  C4     3936272  2016-09-23 00:00:00  \n",
      "4                                  C2     8000000  2016-11-17 00:00:00  \n",
      "...                               ...         ...                  ...  \n",
      "84543                              B9      450000  2016-11-28 00:00:00  \n",
      "84544                              B9      550000  2017-04-21 00:00:00  \n",
      "84545                              B2      460000  2017-07-05 00:00:00  \n",
      "84546                              K6    11693337  2016-12-21 00:00:00  \n",
      "84547                              P9       69300  2016-10-27 00:00:00  \n",
      "\n",
      "[84548 rows x 22 columns]\n"
     ]
    }
   ],
   "source": [
    "rolling_sales_df = pd.read_csv(\"data/nyc-rolling-sales.csv\")\n",
    "\n",
    "print(rolling_sales_df)"
   ]
  },
  {
   "cell_type": "markdown",
   "metadata": {},
   "source": [
    "## Alle Spalten anzeigen"
   ]
  },
  {
   "cell_type": "code",
   "execution_count": 3,
   "metadata": {},
   "outputs": [
    {
     "data": {
      "text/plain": "       Unnamed: 0  BOROUGH   NEIGHBORHOOD  \\\n0               4        1  ALPHABET CITY   \n1               5        1  ALPHABET CITY   \n2               6        1  ALPHABET CITY   \n3               7        1  ALPHABET CITY   \n4               8        1  ALPHABET CITY   \n...           ...      ...            ...   \n84543        8409        5        WOODROW   \n84544        8410        5        WOODROW   \n84545        8411        5        WOODROW   \n84546        8412        5        WOODROW   \n84547        8413        5        WOODROW   \n\n                           BUILDING CLASS CATEGORY TAX CLASS AT PRESENT  \\\n0      07 RENTALS - WALKUP APARTMENTS                                2A   \n1      07 RENTALS - WALKUP APARTMENTS                                 2   \n2      07 RENTALS - WALKUP APARTMENTS                                 2   \n3      07 RENTALS - WALKUP APARTMENTS                                2B   \n4      07 RENTALS - WALKUP APARTMENTS                                2A   \n...                                            ...                  ...   \n84543  02 TWO FAMILY DWELLINGS                                        1   \n84544  02 TWO FAMILY DWELLINGS                                        1   \n84545  02 TWO FAMILY DWELLINGS                                        1   \n84546  22 STORE BUILDINGS                                             4   \n84547  35 INDOOR PUBLIC AND CULTURAL FACILITIES                       4   \n\n       BLOCK  LOT EASE-MENT BUILDING CLASS AT PRESENT                 ADDRESS  \\\n0        392    6                                  C2            153 AVENUE B   \n1        399   26                                  C7   234 EAST 4TH   STREET   \n2        399   39                                  C7   197 EAST 3RD   STREET   \n3        402   21                                  C4     154 EAST 7TH STREET   \n4        404   55                                  C2  301 EAST 10TH   STREET   \n...      ...  ...       ...                       ...                     ...   \n84543   7349   34                                  B9           37 QUAIL LANE   \n84544   7349   78                                  B9        32 PHEASANT LANE   \n84545   7351   60                                  B2        49 PITNEY AVENUE   \n84546   7100   28                                  K6   2730 ARTHUR KILL ROAD   \n84547   7105  679                                  P9       155 CLAY PIT ROAD   \n\n      APARTMENT NUMBER  ZIP CODE  RESIDENTIAL UNITS  COMMERCIAL UNITS  \\\n0                          10009                  5                 0   \n1                          10009                 28                 3   \n2                          10009                 16                 1   \n3                          10009                 10                 0   \n4                          10009                  6                 0   \n...                ...       ...                ...               ...   \n84543                      10309                  2                 0   \n84544                      10309                  2                 0   \n84545                      10309                  2                 0   \n84546                      10309                  0                 7   \n84547                      10309                  0                 1   \n\n       TOTAL UNITS LAND SQUARE FEET GROSS SQUARE FEET  YEAR BUILT  \\\n0                5             1633              6440        1900   \n1               31             4616             18690        1900   \n2               17             2212              7803        1900   \n3               10             2272              6794        1913   \n4                6             2369              4615        1900   \n...            ...              ...               ...         ...   \n84543            2             2400              2575        1998   \n84544            2             2498              2377        1998   \n84545            2             4000              1496        1925   \n84546            7           208033             64117        2001   \n84547            1            10796              2400        2006   \n\n       TAX CLASS AT TIME OF SALE BUILDING CLASS AT TIME OF SALE SALE PRICE  \\\n0                              2                             C2    6625000   \n1                              2                             C7        -     \n2                              2                             C7        -     \n3                              2                             C4    3936272   \n4                              2                             C2    8000000   \n...                          ...                            ...        ...   \n84543                          1                             B9     450000   \n84544                          1                             B9     550000   \n84545                          1                             B2     460000   \n84546                          4                             K6   11693337   \n84547                          4                             P9      69300   \n\n                 SALE DATE  \n0      2017-07-19 00:00:00  \n1      2016-12-14 00:00:00  \n2      2016-12-09 00:00:00  \n3      2016-09-23 00:00:00  \n4      2016-11-17 00:00:00  \n...                    ...  \n84543  2016-11-28 00:00:00  \n84544  2017-04-21 00:00:00  \n84545  2017-07-05 00:00:00  \n84546  2016-12-21 00:00:00  \n84547  2016-10-27 00:00:00  \n\n[84548 rows x 22 columns]",
      "text/html": "<div>\n<style scoped>\n    .dataframe tbody tr th:only-of-type {\n        vertical-align: middle;\n    }\n\n    .dataframe tbody tr th {\n        vertical-align: top;\n    }\n\n    .dataframe thead th {\n        text-align: right;\n    }\n</style>\n<table border=\"1\" class=\"dataframe\">\n  <thead>\n    <tr style=\"text-align: right;\">\n      <th></th>\n      <th>Unnamed: 0</th>\n      <th>BOROUGH</th>\n      <th>NEIGHBORHOOD</th>\n      <th>BUILDING CLASS CATEGORY</th>\n      <th>TAX CLASS AT PRESENT</th>\n      <th>BLOCK</th>\n      <th>LOT</th>\n      <th>EASE-MENT</th>\n      <th>BUILDING CLASS AT PRESENT</th>\n      <th>ADDRESS</th>\n      <th>APARTMENT NUMBER</th>\n      <th>ZIP CODE</th>\n      <th>RESIDENTIAL UNITS</th>\n      <th>COMMERCIAL UNITS</th>\n      <th>TOTAL UNITS</th>\n      <th>LAND SQUARE FEET</th>\n      <th>GROSS SQUARE FEET</th>\n      <th>YEAR BUILT</th>\n      <th>TAX CLASS AT TIME OF SALE</th>\n      <th>BUILDING CLASS AT TIME OF SALE</th>\n      <th>SALE PRICE</th>\n      <th>SALE DATE</th>\n    </tr>\n  </thead>\n  <tbody>\n    <tr>\n      <td>0</td>\n      <td>4</td>\n      <td>1</td>\n      <td>ALPHABET CITY</td>\n      <td>07 RENTALS - WALKUP APARTMENTS</td>\n      <td>2A</td>\n      <td>392</td>\n      <td>6</td>\n      <td></td>\n      <td>C2</td>\n      <td>153 AVENUE B</td>\n      <td></td>\n      <td>10009</td>\n      <td>5</td>\n      <td>0</td>\n      <td>5</td>\n      <td>1633</td>\n      <td>6440</td>\n      <td>1900</td>\n      <td>2</td>\n      <td>C2</td>\n      <td>6625000</td>\n      <td>2017-07-19 00:00:00</td>\n    </tr>\n    <tr>\n      <td>1</td>\n      <td>5</td>\n      <td>1</td>\n      <td>ALPHABET CITY</td>\n      <td>07 RENTALS - WALKUP APARTMENTS</td>\n      <td>2</td>\n      <td>399</td>\n      <td>26</td>\n      <td></td>\n      <td>C7</td>\n      <td>234 EAST 4TH   STREET</td>\n      <td></td>\n      <td>10009</td>\n      <td>28</td>\n      <td>3</td>\n      <td>31</td>\n      <td>4616</td>\n      <td>18690</td>\n      <td>1900</td>\n      <td>2</td>\n      <td>C7</td>\n      <td>-</td>\n      <td>2016-12-14 00:00:00</td>\n    </tr>\n    <tr>\n      <td>2</td>\n      <td>6</td>\n      <td>1</td>\n      <td>ALPHABET CITY</td>\n      <td>07 RENTALS - WALKUP APARTMENTS</td>\n      <td>2</td>\n      <td>399</td>\n      <td>39</td>\n      <td></td>\n      <td>C7</td>\n      <td>197 EAST 3RD   STREET</td>\n      <td></td>\n      <td>10009</td>\n      <td>16</td>\n      <td>1</td>\n      <td>17</td>\n      <td>2212</td>\n      <td>7803</td>\n      <td>1900</td>\n      <td>2</td>\n      <td>C7</td>\n      <td>-</td>\n      <td>2016-12-09 00:00:00</td>\n    </tr>\n    <tr>\n      <td>3</td>\n      <td>7</td>\n      <td>1</td>\n      <td>ALPHABET CITY</td>\n      <td>07 RENTALS - WALKUP APARTMENTS</td>\n      <td>2B</td>\n      <td>402</td>\n      <td>21</td>\n      <td></td>\n      <td>C4</td>\n      <td>154 EAST 7TH STREET</td>\n      <td></td>\n      <td>10009</td>\n      <td>10</td>\n      <td>0</td>\n      <td>10</td>\n      <td>2272</td>\n      <td>6794</td>\n      <td>1913</td>\n      <td>2</td>\n      <td>C4</td>\n      <td>3936272</td>\n      <td>2016-09-23 00:00:00</td>\n    </tr>\n    <tr>\n      <td>4</td>\n      <td>8</td>\n      <td>1</td>\n      <td>ALPHABET CITY</td>\n      <td>07 RENTALS - WALKUP APARTMENTS</td>\n      <td>2A</td>\n      <td>404</td>\n      <td>55</td>\n      <td></td>\n      <td>C2</td>\n      <td>301 EAST 10TH   STREET</td>\n      <td></td>\n      <td>10009</td>\n      <td>6</td>\n      <td>0</td>\n      <td>6</td>\n      <td>2369</td>\n      <td>4615</td>\n      <td>1900</td>\n      <td>2</td>\n      <td>C2</td>\n      <td>8000000</td>\n      <td>2016-11-17 00:00:00</td>\n    </tr>\n    <tr>\n      <td>...</td>\n      <td>...</td>\n      <td>...</td>\n      <td>...</td>\n      <td>...</td>\n      <td>...</td>\n      <td>...</td>\n      <td>...</td>\n      <td>...</td>\n      <td>...</td>\n      <td>...</td>\n      <td>...</td>\n      <td>...</td>\n      <td>...</td>\n      <td>...</td>\n      <td>...</td>\n      <td>...</td>\n      <td>...</td>\n      <td>...</td>\n      <td>...</td>\n      <td>...</td>\n      <td>...</td>\n      <td>...</td>\n    </tr>\n    <tr>\n      <td>84543</td>\n      <td>8409</td>\n      <td>5</td>\n      <td>WOODROW</td>\n      <td>02 TWO FAMILY DWELLINGS</td>\n      <td>1</td>\n      <td>7349</td>\n      <td>34</td>\n      <td></td>\n      <td>B9</td>\n      <td>37 QUAIL LANE</td>\n      <td></td>\n      <td>10309</td>\n      <td>2</td>\n      <td>0</td>\n      <td>2</td>\n      <td>2400</td>\n      <td>2575</td>\n      <td>1998</td>\n      <td>1</td>\n      <td>B9</td>\n      <td>450000</td>\n      <td>2016-11-28 00:00:00</td>\n    </tr>\n    <tr>\n      <td>84544</td>\n      <td>8410</td>\n      <td>5</td>\n      <td>WOODROW</td>\n      <td>02 TWO FAMILY DWELLINGS</td>\n      <td>1</td>\n      <td>7349</td>\n      <td>78</td>\n      <td></td>\n      <td>B9</td>\n      <td>32 PHEASANT LANE</td>\n      <td></td>\n      <td>10309</td>\n      <td>2</td>\n      <td>0</td>\n      <td>2</td>\n      <td>2498</td>\n      <td>2377</td>\n      <td>1998</td>\n      <td>1</td>\n      <td>B9</td>\n      <td>550000</td>\n      <td>2017-04-21 00:00:00</td>\n    </tr>\n    <tr>\n      <td>84545</td>\n      <td>8411</td>\n      <td>5</td>\n      <td>WOODROW</td>\n      <td>02 TWO FAMILY DWELLINGS</td>\n      <td>1</td>\n      <td>7351</td>\n      <td>60</td>\n      <td></td>\n      <td>B2</td>\n      <td>49 PITNEY AVENUE</td>\n      <td></td>\n      <td>10309</td>\n      <td>2</td>\n      <td>0</td>\n      <td>2</td>\n      <td>4000</td>\n      <td>1496</td>\n      <td>1925</td>\n      <td>1</td>\n      <td>B2</td>\n      <td>460000</td>\n      <td>2017-07-05 00:00:00</td>\n    </tr>\n    <tr>\n      <td>84546</td>\n      <td>8412</td>\n      <td>5</td>\n      <td>WOODROW</td>\n      <td>22 STORE BUILDINGS</td>\n      <td>4</td>\n      <td>7100</td>\n      <td>28</td>\n      <td></td>\n      <td>K6</td>\n      <td>2730 ARTHUR KILL ROAD</td>\n      <td></td>\n      <td>10309</td>\n      <td>0</td>\n      <td>7</td>\n      <td>7</td>\n      <td>208033</td>\n      <td>64117</td>\n      <td>2001</td>\n      <td>4</td>\n      <td>K6</td>\n      <td>11693337</td>\n      <td>2016-12-21 00:00:00</td>\n    </tr>\n    <tr>\n      <td>84547</td>\n      <td>8413</td>\n      <td>5</td>\n      <td>WOODROW</td>\n      <td>35 INDOOR PUBLIC AND CULTURAL FACILITIES</td>\n      <td>4</td>\n      <td>7105</td>\n      <td>679</td>\n      <td></td>\n      <td>P9</td>\n      <td>155 CLAY PIT ROAD</td>\n      <td></td>\n      <td>10309</td>\n      <td>0</td>\n      <td>1</td>\n      <td>1</td>\n      <td>10796</td>\n      <td>2400</td>\n      <td>2006</td>\n      <td>4</td>\n      <td>P9</td>\n      <td>69300</td>\n      <td>2016-10-27 00:00:00</td>\n    </tr>\n  </tbody>\n</table>\n<p>84548 rows × 22 columns</p>\n</div>"
     },
     "metadata": {},
     "output_type": "display_data"
    }
   ],
   "source": [
    "pd.options.display.max_columns = None \n",
    "display(rolling_sales_df) "
   ]
  },
  {
   "cell_type": "markdown",
   "metadata": {},
   "source": [
    "## Anzahl der Verkäufe"
   ]
  },
  {
   "cell_type": "code",
   "execution_count": 4,
   "metadata": {},
   "outputs": [
    {
     "name": "stdout",
     "output_type": "stream",
     "text": [
      "Es wurden 84548 Verkäufe verzeichnet.\n"
     ]
    }
   ],
   "source": [
    "N = len(rolling_sales_df)\n",
    "print(\"Es wurden\", N,\"Verkäufe verzeichnet.\")"
   ]
  },
  {
   "cell_type": "code",
   "execution_count": 5,
   "metadata": {},
   "outputs": [
    {
     "data": {
      "text/plain": "   Unnamed: 0  BOROUGH   NEIGHBORHOOD  \\\n0           4        1  ALPHABET CITY   \n1           5        1  ALPHABET CITY   \n2           6        1  ALPHABET CITY   \n3           7        1  ALPHABET CITY   \n4           8        1  ALPHABET CITY   \n\n                       BUILDING CLASS CATEGORY TAX CLASS AT PRESENT  BLOCK  \\\n0  07 RENTALS - WALKUP APARTMENTS                                2A    392   \n1  07 RENTALS - WALKUP APARTMENTS                                 2    399   \n2  07 RENTALS - WALKUP APARTMENTS                                 2    399   \n3  07 RENTALS - WALKUP APARTMENTS                                2B    402   \n4  07 RENTALS - WALKUP APARTMENTS                                2A    404   \n\n   LOT EASE-MENT BUILDING CLASS AT PRESENT                 ADDRESS  \\\n0    6                                  C2            153 AVENUE B   \n1   26                                  C7   234 EAST 4TH   STREET   \n2   39                                  C7   197 EAST 3RD   STREET   \n3   21                                  C4     154 EAST 7TH STREET   \n4   55                                  C2  301 EAST 10TH   STREET   \n\n  APARTMENT NUMBER  ZIP CODE  RESIDENTIAL UNITS  COMMERCIAL UNITS  \\\n0                      10009                  5                 0   \n1                      10009                 28                 3   \n2                      10009                 16                 1   \n3                      10009                 10                 0   \n4                      10009                  6                 0   \n\n   TOTAL UNITS LAND SQUARE FEET GROSS SQUARE FEET  YEAR BUILT  \\\n0            5             1633              6440        1900   \n1           31             4616             18690        1900   \n2           17             2212              7803        1900   \n3           10             2272              6794        1913   \n4            6             2369              4615        1900   \n\n   TAX CLASS AT TIME OF SALE BUILDING CLASS AT TIME OF SALE SALE PRICE  \\\n0                          2                             C2    6625000   \n1                          2                             C7        -     \n2                          2                             C7        -     \n3                          2                             C4    3936272   \n4                          2                             C2    8000000   \n\n             SALE DATE  \n0  2017-07-19 00:00:00  \n1  2016-12-14 00:00:00  \n2  2016-12-09 00:00:00  \n3  2016-09-23 00:00:00  \n4  2016-11-17 00:00:00  ",
      "text/html": "<div>\n<style scoped>\n    .dataframe tbody tr th:only-of-type {\n        vertical-align: middle;\n    }\n\n    .dataframe tbody tr th {\n        vertical-align: top;\n    }\n\n    .dataframe thead th {\n        text-align: right;\n    }\n</style>\n<table border=\"1\" class=\"dataframe\">\n  <thead>\n    <tr style=\"text-align: right;\">\n      <th></th>\n      <th>Unnamed: 0</th>\n      <th>BOROUGH</th>\n      <th>NEIGHBORHOOD</th>\n      <th>BUILDING CLASS CATEGORY</th>\n      <th>TAX CLASS AT PRESENT</th>\n      <th>BLOCK</th>\n      <th>LOT</th>\n      <th>EASE-MENT</th>\n      <th>BUILDING CLASS AT PRESENT</th>\n      <th>ADDRESS</th>\n      <th>APARTMENT NUMBER</th>\n      <th>ZIP CODE</th>\n      <th>RESIDENTIAL UNITS</th>\n      <th>COMMERCIAL UNITS</th>\n      <th>TOTAL UNITS</th>\n      <th>LAND SQUARE FEET</th>\n      <th>GROSS SQUARE FEET</th>\n      <th>YEAR BUILT</th>\n      <th>TAX CLASS AT TIME OF SALE</th>\n      <th>BUILDING CLASS AT TIME OF SALE</th>\n      <th>SALE PRICE</th>\n      <th>SALE DATE</th>\n    </tr>\n  </thead>\n  <tbody>\n    <tr>\n      <td>0</td>\n      <td>4</td>\n      <td>1</td>\n      <td>ALPHABET CITY</td>\n      <td>07 RENTALS - WALKUP APARTMENTS</td>\n      <td>2A</td>\n      <td>392</td>\n      <td>6</td>\n      <td></td>\n      <td>C2</td>\n      <td>153 AVENUE B</td>\n      <td></td>\n      <td>10009</td>\n      <td>5</td>\n      <td>0</td>\n      <td>5</td>\n      <td>1633</td>\n      <td>6440</td>\n      <td>1900</td>\n      <td>2</td>\n      <td>C2</td>\n      <td>6625000</td>\n      <td>2017-07-19 00:00:00</td>\n    </tr>\n    <tr>\n      <td>1</td>\n      <td>5</td>\n      <td>1</td>\n      <td>ALPHABET CITY</td>\n      <td>07 RENTALS - WALKUP APARTMENTS</td>\n      <td>2</td>\n      <td>399</td>\n      <td>26</td>\n      <td></td>\n      <td>C7</td>\n      <td>234 EAST 4TH   STREET</td>\n      <td></td>\n      <td>10009</td>\n      <td>28</td>\n      <td>3</td>\n      <td>31</td>\n      <td>4616</td>\n      <td>18690</td>\n      <td>1900</td>\n      <td>2</td>\n      <td>C7</td>\n      <td>-</td>\n      <td>2016-12-14 00:00:00</td>\n    </tr>\n    <tr>\n      <td>2</td>\n      <td>6</td>\n      <td>1</td>\n      <td>ALPHABET CITY</td>\n      <td>07 RENTALS - WALKUP APARTMENTS</td>\n      <td>2</td>\n      <td>399</td>\n      <td>39</td>\n      <td></td>\n      <td>C7</td>\n      <td>197 EAST 3RD   STREET</td>\n      <td></td>\n      <td>10009</td>\n      <td>16</td>\n      <td>1</td>\n      <td>17</td>\n      <td>2212</td>\n      <td>7803</td>\n      <td>1900</td>\n      <td>2</td>\n      <td>C7</td>\n      <td>-</td>\n      <td>2016-12-09 00:00:00</td>\n    </tr>\n    <tr>\n      <td>3</td>\n      <td>7</td>\n      <td>1</td>\n      <td>ALPHABET CITY</td>\n      <td>07 RENTALS - WALKUP APARTMENTS</td>\n      <td>2B</td>\n      <td>402</td>\n      <td>21</td>\n      <td></td>\n      <td>C4</td>\n      <td>154 EAST 7TH STREET</td>\n      <td></td>\n      <td>10009</td>\n      <td>10</td>\n      <td>0</td>\n      <td>10</td>\n      <td>2272</td>\n      <td>6794</td>\n      <td>1913</td>\n      <td>2</td>\n      <td>C4</td>\n      <td>3936272</td>\n      <td>2016-09-23 00:00:00</td>\n    </tr>\n    <tr>\n      <td>4</td>\n      <td>8</td>\n      <td>1</td>\n      <td>ALPHABET CITY</td>\n      <td>07 RENTALS - WALKUP APARTMENTS</td>\n      <td>2A</td>\n      <td>404</td>\n      <td>55</td>\n      <td></td>\n      <td>C2</td>\n      <td>301 EAST 10TH   STREET</td>\n      <td></td>\n      <td>10009</td>\n      <td>6</td>\n      <td>0</td>\n      <td>6</td>\n      <td>2369</td>\n      <td>4615</td>\n      <td>1900</td>\n      <td>2</td>\n      <td>C2</td>\n      <td>8000000</td>\n      <td>2016-11-17 00:00:00</td>\n    </tr>\n  </tbody>\n</table>\n</div>"
     },
     "execution_count": 5,
     "metadata": {},
     "output_type": "execute_result"
    }
   ],
   "source": [
    "rolling_sales_df.head() #Erste 5 Zeilen anzeigen für die Übersichtlichkeit"
   ]
  },
  {
   "cell_type": "markdown",
   "metadata": {},
   "source": [
    "# Datentypen anzeigen"
   ]
  },
  {
   "cell_type": "code",
   "execution_count": 6,
   "metadata": {},
   "outputs": [
    {
     "data": {
      "text/plain": "Unnamed: 0                         int64\nBOROUGH                            int64\nNEIGHBORHOOD                      object\nBUILDING CLASS CATEGORY           object\nTAX CLASS AT PRESENT              object\nBLOCK                              int64\nLOT                                int64\nEASE-MENT                         object\nBUILDING CLASS AT PRESENT         object\nADDRESS                           object\nAPARTMENT NUMBER                  object\nZIP CODE                           int64\nRESIDENTIAL UNITS                  int64\nCOMMERCIAL UNITS                   int64\nTOTAL UNITS                        int64\nLAND SQUARE FEET                  object\nGROSS SQUARE FEET                 object\nYEAR BUILT                         int64\nTAX CLASS AT TIME OF SALE          int64\nBUILDING CLASS AT TIME OF SALE    object\nSALE PRICE                        object\nSALE DATE                         object\ndtype: object"
     },
     "execution_count": 6,
     "metadata": {},
     "output_type": "execute_result"
    }
   ],
   "source": [
    "rolling_sales_df.dtypes"
   ]
  },
  {
   "cell_type": "markdown",
   "metadata": {},
   "source": [
    "# Anzahl verschiedener Werte jeder einzelnen Spalte"
   ]
  },
  {
   "cell_type": "code",
   "execution_count": 7,
   "metadata": {},
   "outputs": [
    {
     "data": {
      "text/plain": "Unnamed: 0                        26736\nBOROUGH                               5\nNEIGHBORHOOD                        254\nBUILDING CLASS CATEGORY              47\nTAX CLASS AT PRESENT                 11\nBLOCK                             11566\nLOT                                2627\nEASE-MENT                             1\nBUILDING CLASS AT PRESENT           167\nADDRESS                           67563\nAPARTMENT NUMBER                   3989\nZIP CODE                            186\nRESIDENTIAL UNITS                   176\nCOMMERCIAL UNITS                     55\nTOTAL UNITS                         192\nLAND SQUARE FEET                   6062\nGROSS SQUARE FEET                  5691\nYEAR BUILT                          158\nTAX CLASS AT TIME OF SALE             4\nBUILDING CLASS AT TIME OF SALE      166\nSALE PRICE                        10008\nSALE DATE                           364\ndtype: int64"
     },
     "execution_count": 7,
     "metadata": {},
     "output_type": "execute_result"
    }
   ],
   "source": [
    "rolling_sales_df.apply(lambda x: len(x.unique()))"
   ]
  },
  {
   "cell_type": "markdown",
   "metadata": {},
   "source": [
    "# Neighborhood"
   ]
  },
  {
   "cell_type": "markdown",
   "metadata": {},
   "source": [
    "## Wie viele unterschiedliche Neighborhoods gibt es?"
   ]
  },
  {
   "cell_type": "code",
   "execution_count": 8,
   "metadata": {},
   "outputs": [
    {
     "name": "stdout",
     "output_type": "stream",
     "text": [
      "FLUSHING-NORTH              3068\n",
      "UPPER EAST SIDE (59-79)     1736\n",
      "UPPER EAST SIDE (79-96)     1590\n",
      "UPPER WEST SIDE (59-79)     1439\n",
      "BEDFORD STUYVESANT          1436\n",
      "                            ... \n",
      "VAN CORTLANDT PARK             2\n",
      "EAST RIVER                     1\n",
      "BRONX PARK                     1\n",
      "PELHAM BAY                     1\n",
      "CITY ISLAND-PELHAM STRIP       1\n",
      "Name: NEIGHBORHOOD, Length: 254, dtype: int64\n"
     ]
    }
   ],
   "source": [
    "# 254\n",
    "# Neighborhood = Nachbarschaft/Region/Stadtteil\n",
    "\n",
    "neighborhood_df = rolling_sales_df['NEIGHBORHOOD'].value_counts()\n",
    "print(neighborhood_df)"
   ]
  },
  {
   "cell_type": "code",
   "execution_count": 9,
   "metadata": {},
   "outputs": [
    {
     "name": "stdout",
     "output_type": "stream",
     "text": [
      "0\n"
     ]
    }
   ],
   "source": [
    "neighborhood0 = len(rolling_sales_df[rolling_sales_df[\"NEIGHBORHOOD\"] == \" \"])\n",
    "print(neighborhood0)\n",
    "\n",
    "# keine leeren Zellen"
   ]
  },
  {
   "cell_type": "markdown",
   "metadata": {},
   "source": [
    "## Top 5/Last 5 Neighborhoods"
   ]
  },
  {
   "cell_type": "code",
   "execution_count": 10,
   "metadata": {},
   "outputs": [
    {
     "name": "stdout",
     "output_type": "stream",
     "text": [
      "FLUSHING-NORTH             3068\n",
      "UPPER EAST SIDE (59-79)    1736\n",
      "UPPER EAST SIDE (79-96)    1590\n",
      "UPPER WEST SIDE (59-79)    1439\n",
      "BEDFORD STUYVESANT         1436\n",
      "Name: NEIGHBORHOOD, dtype: int64\n"
     ]
    }
   ],
   "source": [
    "neighborhood_top5 = rolling_sales_df['NEIGHBORHOOD'].value_counts()\n",
    "print(neighborhood_top5.nlargest(5))"
   ]
  },
  {
   "cell_type": "code",
   "execution_count": 11,
   "metadata": {},
   "outputs": [
    {
     "name": "stdout",
     "output_type": "stream",
     "text": [
      "EAST RIVER                  1\n",
      "BRONX PARK                  1\n",
      "PELHAM BAY                  1\n",
      "CITY ISLAND-PELHAM STRIP    1\n",
      "FRESH KILLS                 2\n",
      "VAN CORTLANDT PARK          2\n",
      "CO-OP CITY                  5\n",
      "DONGAN HILLS-OLD TOWN       5\n",
      "ROSSVILLE-PORT MOBIL        6\n",
      "AIRPORT LA GUARDIA          8\n",
      "Name: NEIGHBORHOOD, dtype: int64\n"
     ]
    }
   ],
   "source": [
    "neighborhood_last5 = rolling_sales_df['NEIGHBORHOOD'].value_counts()\n",
    "print(neighborhood_last5.nsmallest(10))"
   ]
  },
  {
   "cell_type": "markdown",
   "metadata": {},
   "source": [
    "# Building Class Category"
   ]
  },
  {
   "cell_type": "code",
   "execution_count": 12,
   "metadata": {},
   "outputs": [],
   "source": [
    "# Immobilienart (z.B. Einfamilienhaus)"
   ]
  },
  {
   "cell_type": "markdown",
   "metadata": {},
   "source": [
    "## Welche Immobilienarten gibt es und wie oft kommen Sie vor?"
   ]
  },
  {
   "cell_type": "code",
   "execution_count": 13,
   "metadata": {},
   "outputs": [
    {
     "name": "stdout",
     "output_type": "stream",
     "text": [
      "Summary: count                                           84548\n",
      "unique                                             47\n",
      "top       01 ONE FAMILY DWELLINGS                    \n",
      "freq                                            18235\n",
      "Name: BUILDING CLASS CATEGORY, dtype: object\n"
     ]
    }
   ],
   "source": [
    "print(\"Summary:\", rolling_sales_df[\"BUILDING CLASS CATEGORY\"].describe())"
   ]
  },
  {
   "cell_type": "code",
   "execution_count": 14,
   "metadata": {},
   "outputs": [
    {
     "name": "stdout",
     "output_type": "stream",
     "text": [
      "01 ONE FAMILY DWELLINGS                        18235\n",
      "02 TWO FAMILY DWELLINGS                        15828\n",
      "13 CONDOS - ELEVATOR APARTMENTS                12989\n",
      "10 COOPS - ELEVATOR APARTMENTS                 12902\n",
      "03 THREE FAMILY DWELLINGS                       4384\n",
      "Name: BUILDING CLASS CATEGORY, dtype: int64\n"
     ]
    }
   ],
   "source": [
    "buildingclass_df = rolling_sales_df['BUILDING CLASS CATEGORY'].value_counts()\n",
    "print(buildingclass_df.nlargest(5))"
   ]
  },
  {
   "cell_type": "markdown",
   "metadata": {},
   "source": [
    "# Tax Classes"
   ]
  },
  {
   "cell_type": "code",
   "execution_count": 15,
   "metadata": {
    "scrolled": true
   },
   "outputs": [
    {
     "name": "stdout",
     "output_type": "stream",
     "text": [
      "1     38633\n",
      "2     30919\n",
      "4      6140\n",
      "2A     2521\n",
      "2C     1915\n",
      "1A     1444\n",
      "1B     1234\n",
      "2B      814\n",
      "        738\n",
      "1C      186\n",
      "3         4\n",
      "Name: TAX CLASS AT PRESENT, dtype: int64\n"
     ]
    }
   ],
   "source": [
    "# Steuerklassen:\n",
    "# - Klasse 1: Umfasst die meisten Wohneigentumsbestände mit bis zu drei Einheiten (wie Ein-, Zwei- und Dreifamilienhäuser und kleine Geschäfte oder Büros mit einer oder zwei angeschlossenen Wohnungen), leere Grundstücke, die für Wohnzwecke in Zonen eingeteilt sind, und die meisten Eigentumswohnungen, die nicht mehr als drei Stockwerke haben.   \n",
    "\n",
    "# - Klasse 2: Umfasst alle anderen Immobilien, die hauptsächlich Wohnzwecken dienen, wie Genossenschaften und Eigentumswohnungen.   \n",
    "\n",
    "# - Klasse 3: Umfasst Immobilien mit Geräten, die einem Gas-, Telefon- oder Elektrizitätsunternehmen gehören.   \n",
    "\n",
    "# - Klasse 4: Umfasst alle anderen Immobilien, die nicht in den Klassen 1, 2 und 3 enthalten sind, wie z.B. Büros, Fabriken, Lagerhäuser, Garagengebäude usw. \n",
    "    \n",
    "tax_classes = rolling_sales_df['TAX CLASS AT PRESENT'].value_counts()\n",
    "print(tax_classes)"
   ]
  },
  {
   "cell_type": "markdown",
   "metadata": {},
   "source": [
    "## Tax Class 1"
   ]
  },
  {
   "cell_type": "code",
   "execution_count": 16,
   "metadata": {},
   "outputs": [
    {
     "name": "stdout",
     "output_type": "stream",
     "text": [
      "41497\n",
      "49 %\n",
      "49 % der Verkäufe (= 41497 ), sind Ein-, Zwei- und/oder Dreifamilienhäuser.\n"
     ]
    }
   ],
   "source": [
    "taxclass1 = len(rolling_sales_df[rolling_sales_df[\"TAX CLASS AT PRESENT\"] == \"1\"])\n",
    "taxclass1A = len(rolling_sales_df[rolling_sales_df[\"TAX CLASS AT PRESENT\"] == \"1A\"])\n",
    "taxclass1B = len(rolling_sales_df[rolling_sales_df[\"TAX CLASS AT PRESENT\"] == \"1B\"])\n",
    "taxclass1C = len(rolling_sales_df[rolling_sales_df[\"TAX CLASS AT PRESENT\"] == \"1C\"])\n",
    "taxclass1gesamt = taxclass1 + taxclass1A + taxclass1B + taxclass1C\n",
    "taxclass1proz = taxclass1gesamt/N*100\n",
    "print(taxclass1gesamt)\n",
    "print(int(taxclass1proz), \"%\")\n",
    "print(int(taxclass1proz), \"% der Verkäufe (=\", taxclass1gesamt, \"), sind Ein-, Zwei- und/oder Dreifamilienhäuser.\")\n"
   ]
  },
  {
   "cell_type": "markdown",
   "metadata": {},
   "source": [
    "## Tax Class 2"
   ]
  },
  {
   "cell_type": "code",
   "execution_count": 17,
   "metadata": {},
   "outputs": [
    {
     "name": "stdout",
     "output_type": "stream",
     "text": [
      "36169\n",
      "42 %\n",
      "42 % der Verkäufe (= 36169 ), sind Immobilien, die hauptsächlich Wohnzwecken dienen, wie Genossenschaften und Eigentumswohnungen.\n"
     ]
    }
   ],
   "source": [
    "taxclass2 = len(rolling_sales_df[rolling_sales_df[\"TAX CLASS AT PRESENT\"] == \"2\"])\n",
    "taxclass2A = len(rolling_sales_df[rolling_sales_df[\"TAX CLASS AT PRESENT\"] == \"2A\"])\n",
    "taxclass2B = len(rolling_sales_df[rolling_sales_df[\"TAX CLASS AT PRESENT\"] == \"2B\"])\n",
    "taxclass2C = len(rolling_sales_df[rolling_sales_df[\"TAX CLASS AT PRESENT\"] == \"2C\"])\n",
    "taxclass2gesamt = taxclass2 + taxclass2A + taxclass2B + taxclass2C\n",
    "taxclass2proz = taxclass2gesamt/N*100\n",
    "print(taxclass2gesamt)\n",
    "print(int(taxclass2proz), \"%\")\n",
    "print(int(taxclass2proz), \"% der Verkäufe (=\", taxclass2gesamt, \"), sind Immobilien, die hauptsächlich Wohnzwecken dienen, wie Genossenschaften und Eigentumswohnungen.\")"
   ]
  },
  {
   "cell_type": "markdown",
   "metadata": {},
   "source": [
    "## Tax Class 3"
   ]
  },
  {
   "cell_type": "code",
   "execution_count": 18,
   "metadata": {},
   "outputs": [
    {
     "name": "stdout",
     "output_type": "stream",
     "text": [
      "4\n",
      "0 %\n",
      "Weniger als 1% (= 4 ) der Verkäufe umfasst Immobilien mit Geräten, die einem Gas-, Telefon- oder Elektrizitätsunternehmen gehören.\n"
     ]
    }
   ],
   "source": [
    "taxclass3 = len(rolling_sales_df[rolling_sales_df[\"TAX CLASS AT PRESENT\"] == \"3\"])\n",
    "taxclass3proz = taxclass3/N*100\n",
    "print(taxclass3)\n",
    "print(int(taxclass3proz), \"%\")\n",
    "print(\"Weniger als 1% (=\", taxclass3, \") der Verkäufe umfasst Immobilien mit Geräten, die einem Gas-, Telefon- oder Elektrizitätsunternehmen gehören.\")"
   ]
  },
  {
   "cell_type": "markdown",
   "metadata": {},
   "source": [
    "## Tax Class 4"
   ]
  },
  {
   "cell_type": "code",
   "execution_count": 19,
   "metadata": {},
   "outputs": [
    {
     "name": "stdout",
     "output_type": "stream",
     "text": [
      "6140\n",
      "7 %\n",
      "7 % der Verkäufe (= 6140 ), umfasst alle anderen Immobilien, die nicht in den Klassen 1, 2 und 3 enthalten sind, wie z.B. Büros, Fabriken, Lagerhäuser, Garagengebäude usw.\n"
     ]
    }
   ],
   "source": [
    "taxclass4 = len(rolling_sales_df[rolling_sales_df[\"TAX CLASS AT PRESENT\"] == \"4\"])\n",
    "taxclass4proz = taxclass4/N*100\n",
    "print(taxclass4)\n",
    "print(int(taxclass4proz), \"%\")\n",
    "print(int(taxclass4proz), \"% der Verkäufe (=\", taxclass4, \"), umfasst alle anderen Immobilien, die nicht in den Klassen 1, 2 und 3 enthalten sind, wie z.B. Büros, Fabriken, Lagerhäuser, Garagengebäude usw.\")"
   ]
  },
  {
   "cell_type": "markdown",
   "metadata": {},
   "source": [
    "## Ohne Tax Class"
   ]
  },
  {
   "cell_type": "code",
   "execution_count": 20,
   "metadata": {},
   "outputs": [
    {
     "name": "stdout",
     "output_type": "stream",
     "text": [
      "738\n",
      "738 Datensätze sind ohne Tax Class versehen.\n"
     ]
    }
   ],
   "source": [
    "taxclass0 = len(rolling_sales_df[rolling_sales_df[\"TAX CLASS AT PRESENT\"] == \" \"])\n",
    "print(taxclass0)\n",
    "print(taxclass0, \"Datensätze sind ohne Tax Class versehen.\")"
   ]
  },
  {
   "cell_type": "markdown",
   "metadata": {},
   "source": [
    "# Baujahr (Year Built)"
   ]
  },
  {
   "cell_type": "code",
   "execution_count": 21,
   "metadata": {},
   "outputs": [
    {
     "name": "stdout",
     "output_type": "stream",
     "text": [
      "Summary: count    84548.000000\n",
      "mean      1789.322976\n",
      "std        537.344993\n",
      "min          0.000000\n",
      "25%       1920.000000\n",
      "50%       1940.000000\n",
      "75%       1965.000000\n",
      "max       2017.000000\n",
      "Name: YEAR BUILT, dtype: float64\n"
     ]
    }
   ],
   "source": [
    "print(\"Summary:\", rolling_sales_df[\"YEAR BUILT\"].describe())"
   ]
  },
  {
   "cell_type": "markdown",
   "metadata": {},
   "source": [
    "## Ohne Jahr"
   ]
  },
  {
   "cell_type": "code",
   "execution_count": 22,
   "metadata": {},
   "outputs": [
    {
     "name": "stdout",
     "output_type": "stream",
     "text": [
      "0\n"
     ]
    },
    {
     "name": "stderr",
     "output_type": "stream",
     "text": [
      "C:\\Users\\Dome\\Anaconda3\\lib\\site-packages\\pandas\\core\\ops\\__init__.py:1115: FutureWarning: elementwise comparison failed; returning scalar instead, but in the future will perform elementwise comparison\n",
      "  result = method(y)\n"
     ]
    }
   ],
   "source": [
    "yearbuilt_without = len(rolling_sales_df[rolling_sales_df[\"YEAR BUILT\"] == \"\"])\n",
    "print(yearbuilt_without)"
   ]
  },
  {
   "cell_type": "code",
   "execution_count": 23,
   "metadata": {},
   "outputs": [
    {
     "name": "stdout",
     "output_type": "stream",
     "text": [
      "6970\n"
     ]
    }
   ],
   "source": [
    "rolling_sales_df['YEAR BUILT'] = rolling_sales_df['YEAR BUILT'].replace(np.nan, 0)\n",
    "\n",
    "yearbuilt_ohneJahr = len(rolling_sales_df[rolling_sales_df[\"YEAR BUILT\"] == 0])\n",
    "print(yearbuilt_ohneJahr)"
   ]
  },
  {
   "cell_type": "markdown",
   "metadata": {},
   "source": [
    "## Wie viele unterschiedliche Baujahre gibt es?"
   ]
  },
  {
   "cell_type": "code",
   "execution_count": 24,
   "metadata": {},
   "outputs": [
    {
     "name": "stdout",
     "output_type": "stream",
     "text": [
      "YEAR BUILT\n",
      "0       6970\n",
      "1111       1\n",
      "1680       1\n",
      "1800      37\n",
      "1826       1\n",
      "        ... \n",
      "2013     743\n",
      "2014    1232\n",
      "2015    1470\n",
      "2016     794\n",
      "2017       6\n",
      "Length: 158, dtype: int64\n"
     ]
    }
   ],
   "source": [
    "yearbuilt = rolling_sales_df.groupby(['YEAR BUILT']).size()\n",
    "print(yearbuilt)\n",
    "\n",
    "# 158 unterschiedliche Baujahre"
   ]
  },
  {
   "cell_type": "code",
   "execution_count": 25,
   "metadata": {},
   "outputs": [
    {
     "name": "stdout",
     "output_type": "stream",
     "text": [
      "0       6970\n",
      "1920    6045\n",
      "1930    5043\n",
      "1925    4312\n",
      "1910    3585\n",
      "Name: YEAR BUILT, dtype: int64\n"
     ]
    }
   ],
   "source": [
    "yearbuilt_top = rolling_sales_df['YEAR BUILT'].value_counts()\n",
    "print(yearbuilt_top.nlargest(5))"
   ]
  },
  {
   "cell_type": "markdown",
   "metadata": {},
   "source": [
    "## Neuestes Gebäude"
   ]
  },
  {
   "cell_type": "code",
   "execution_count": 26,
   "metadata": {},
   "outputs": [
    {
     "name": "stdout",
     "output_type": "stream",
     "text": [
      "Das neueste Gebäude wurde im Jahr 2017 gebaut.\n"
     ]
    }
   ],
   "source": [
    "yearbuilt_new = rolling_sales_df[\"YEAR BUILT\"].max()\n",
    "print(\"Das neueste Gebäude wurde im Jahr\", int(yearbuilt_new), \"gebaut.\")"
   ]
  },
  {
   "cell_type": "code",
   "execution_count": 27,
   "metadata": {},
   "outputs": [
    {
     "name": "stdout",
     "output_type": "stream",
     "text": [
      "6\n",
      "2017 wurden 6 Gebäude errichtet.\n"
     ]
    }
   ],
   "source": [
    "yearbuilt2017 = len(rolling_sales_df[rolling_sales_df[\"YEAR BUILT\"] == 2017])\n",
    "print(yearbuilt2017)\n",
    "print(\"2017 wurden\", yearbuilt2017, \"Gebäude errichtet.\")"
   ]
  },
  {
   "cell_type": "markdown",
   "metadata": {},
   "source": [
    "## Ältestes Gebäude"
   ]
  },
  {
   "cell_type": "markdown",
   "metadata": {},
   "source": [
    "### Jahr 0 als NaN-Wert ausgeben"
   ]
  },
  {
   "cell_type": "code",
   "execution_count": 28,
   "metadata": {},
   "outputs": [],
   "source": [
    "rolling_sales_df.loc[rolling_sales_df['YEAR BUILT'] == 0,:'YEAR BUILT'] = np.NaN"
   ]
  },
  {
   "cell_type": "code",
   "execution_count": 29,
   "metadata": {},
   "outputs": [
    {
     "name": "stdout",
     "output_type": "stream",
     "text": [
      "Das älteste Gebäude wurde im Jahr 1111 gebaut.\n"
     ]
    }
   ],
   "source": [
    "yearbuilt_old = rolling_sales_df[\"YEAR BUILT\"].min()\n",
    "print(\"Das älteste Gebäude wurde im Jahr\", int(yearbuilt_old), \"gebaut.\")\n",
    "\n",
    "# Sinnhaftigkeit ? Da NY erst 16xx erbaut --> Domi?"
   ]
  },
  {
   "cell_type": "markdown",
   "metadata": {},
   "source": [
    "## Anzahl Gebäude 17. Jahrhundert"
   ]
  },
  {
   "cell_type": "code",
   "execution_count": 30,
   "metadata": {},
   "outputs": [],
   "source": [
    "# komme hier nicht weiter :()"
   ]
  },
  {
   "cell_type": "markdown",
   "metadata": {},
   "source": [
    "## Anzahl Gebäude 18. Jahrhundert"
   ]
  },
  {
   "cell_type": "code",
   "execution_count": 30,
   "metadata": {},
   "outputs": [],
   "source": []
  },
  {
   "cell_type": "markdown",
   "metadata": {},
   "source": [
    "## Anzahl Gebäude 19. Jahrhundert"
   ]
  },
  {
   "cell_type": "code",
   "execution_count": 30,
   "metadata": {},
   "outputs": [],
   "source": []
  },
  {
   "cell_type": "markdown",
   "metadata": {},
   "source": [
    "## Anzahl Gebäude 20. Jahrhundert"
   ]
  },
  {
   "cell_type": "code",
   "execution_count": 30,
   "metadata": {},
   "outputs": [],
   "source": []
  },
  {
   "cell_type": "markdown",
   "metadata": {},
   "source": [
    "## Anzahl Gebäude 21. Jahrhundert"
   ]
  },
  {
   "cell_type": "code",
   "execution_count": 30,
   "metadata": {},
   "outputs": [],
   "source": []
  },
  {
   "cell_type": "markdown",
   "metadata": {},
   "source": [
    "## Durschnitt des Baujahrs"
   ]
  },
  {
   "cell_type": "code",
   "execution_count": 31,
   "metadata": {},
   "outputs": [
    {
     "name": "stdout",
     "output_type": "stream",
     "text": [
      "Das Durchschnittsbaujahr ist 1950 .\n"
     ]
    }
   ],
   "source": [
    "rolling_sales_df.loc[rolling_sales_df['YEAR BUILT'] == 0,:'YEAR BUILT'] = np.NaN\n",
    "yearbuilt_mean = rolling_sales_df['YEAR BUILT'].mean()\n",
    "print(\"Das Durchschnittsbaujahr ist\", int(yearbuilt_mean),\".\")"
   ]
  },
  {
   "cell_type": "markdown",
   "metadata": {},
   "source": [
    "# Residential Units"
   ]
  },
  {
   "cell_type": "code",
   "execution_count": 32,
   "metadata": {},
   "outputs": [
    {
     "name": "stdout",
     "output_type": "stream",
     "text": [
      "28239 Verkäufe haben keine Anzahl der Wohneinheiten angegeben.\n"
     ]
    }
   ],
   "source": [
    "# = Die Anzahl der Wohneinheiten auf dem gelisteten Grundstück. \n",
    "\n",
    "rolling_sales_df['RESIDENTIAL UNITS'] = rolling_sales_df['RESIDENTIAL UNITS'].replace(np.nan, 0)\n",
    "\n",
    "residential = len(rolling_sales_df[rolling_sales_df[\"RESIDENTIAL UNITS\"] == 0])\n",
    "print(residential, \"Verkäufe haben keine Anzahl der Wohneinheiten angegeben.\")"
   ]
  },
  {
   "cell_type": "markdown",
   "metadata": {},
   "source": [
    "## Residential Units Max"
   ]
  },
  {
   "cell_type": "code",
   "execution_count": 33,
   "metadata": {},
   "outputs": [
    {
     "name": "stdout",
     "output_type": "stream",
     "text": [
      "1844\n"
     ]
    }
   ],
   "source": [
    "rolling_sales_df.loc[rolling_sales_df['RESIDENTIAL UNITS'] == 0,:'RESIDENTIAL UNITS'] = np.NaN\n",
    "\n",
    "residential_max = rolling_sales_df['RESIDENTIAL UNITS'].max(skipna=True)\n",
    "print(int(residential_max))"
   ]
  },
  {
   "cell_type": "markdown",
   "metadata": {},
   "source": [
    "## Residential Units Min"
   ]
  },
  {
   "cell_type": "code",
   "execution_count": 34,
   "metadata": {},
   "outputs": [
    {
     "name": "stdout",
     "output_type": "stream",
     "text": [
      "1\n"
     ]
    }
   ],
   "source": [
    "rolling_sales_df.loc[rolling_sales_df['RESIDENTIAL UNITS'] == 0,:'RESIDENTIAL UNITS'] = np.NaN\n",
    "\n",
    "residential_min = rolling_sales_df['RESIDENTIAL UNITS'].min(skipna=True)\n",
    "print(int(residential_min))"
   ]
  },
  {
   "cell_type": "markdown",
   "metadata": {},
   "source": [
    "## Residential Mean"
   ]
  },
  {
   "cell_type": "code",
   "execution_count": 35,
   "metadata": {},
   "outputs": [
    {
     "name": "stdout",
     "output_type": "stream",
     "text": [
      "Durchschnittlich sind 2 Wohneinheiten auf einem Grundstück.\n"
     ]
    }
   ],
   "source": [
    "rolling_sales_df.loc[rolling_sales_df['RESIDENTIAL UNITS'] == 0,:'RESIDENTIAL UNITS'] = np.NaN\n",
    "\n",
    "residential_mean = rolling_sales_df['RESIDENTIAL UNITS'].mean()\n",
    "print(\"Durchschnittlich sind\", int(residential_mean), \"Wohneinheiten auf einem Grundstück.\")"
   ]
  },
  {
   "cell_type": "markdown",
   "metadata": {},
   "source": [
    "## Wo gibt es die meisten Wohneinheiten je Grundstück?"
   ]
  },
  {
   "cell_type": "code",
   "execution_count": 36,
   "metadata": {},
   "outputs": [
    {
     "name": "stdout",
     "output_type": "stream",
     "text": [
      "1.0      31279\n",
      "2.0      16047\n",
      "3.0       4603\n",
      "4.0       1346\n",
      "6.0        787\n",
      "         ...  \n",
      "948.0        1\n",
      "75.0         1\n",
      "164.0        1\n",
      "369.0        1\n",
      "135.0        1\n",
      "Name: RESIDENTIAL UNITS, Length: 175, dtype: int64\n",
      "         RESIDENTIAL UNITS\n",
      "BOROUGH                   \n",
      "1.0                40644.0\n",
      "2.0                23857.0\n",
      "3.0                47621.0\n",
      "4.0                44972.0\n",
      "5.0                10322.0\n"
     ]
    }
   ],
   "source": [
    "residential_most = rolling_sales_df['RESIDENTIAL UNITS'].value_counts()\n",
    "print(residential_most)\n",
    "residential_grouped = rolling_sales_df.groupby(['BOROUGH']).sum()\n",
    "del residential_grouped['LOT']\n",
    "del residential_grouped['BLOCK']\n",
    "del residential_grouped['ZIP CODE']\n",
    "del residential_grouped['Unnamed: 0']\n",
    "del residential_grouped['COMMERCIAL UNITS']\n",
    "del residential_grouped['TOTAL UNITS']\n",
    "del residential_grouped['YEAR BUILT']\n",
    "del residential_grouped['TAX CLASS AT TIME OF SALE']\n",
    "print(residential_grouped)\n",
    "\n",
    "\n",
    "# wie bekomme ich hier Manhatten, Brooklyn, etc. zugeordnet zu 1, 2, 3, 4....?\n",
    "\n",
    "\n",
    "\n"
   ]
  },
  {
   "cell_type": "markdown",
   "metadata": {},
   "source": [
    "# Commercial Units"
   ]
  },
  {
   "cell_type": "code",
   "execution_count": 37,
   "metadata": {},
   "outputs": [
    {
     "name": "stdout",
     "output_type": "stream",
     "text": [
      "72486 Verkäufe haben keine Anzahl der Gewerbeeinheiten angegeben.\n"
     ]
    }
   ],
   "source": [
    "# = Die Anzahl der Gewerbeeinheiten auf dem gelisteten Grundstück. \n",
    "\n",
    "commercial = len(rolling_sales_df[rolling_sales_df[\"COMMERCIAL UNITS\"] == 0])\n",
    "print(commercial, \"Verkäufe haben keine Anzahl der Gewerbeeinheiten angegeben.\")"
   ]
  },
  {
   "cell_type": "markdown",
   "metadata": {},
   "source": [
    "## Commercial Units Max"
   ]
  },
  {
   "cell_type": "code",
   "execution_count": 38,
   "metadata": {},
   "outputs": [
    {
     "name": "stdout",
     "output_type": "stream",
     "text": [
      "2261\n"
     ]
    }
   ],
   "source": [
    "rolling_sales_df.loc[rolling_sales_df['COMMERCIAL UNITS'] == 0,:'COMMERCIAL UNITS'] = np.NaN\n",
    "\n",
    "commercial_max = rolling_sales_df['COMMERCIAL UNITS'].max(skipna=True)\n",
    "print(int(commercial_max))"
   ]
  },
  {
   "cell_type": "markdown",
   "metadata": {},
   "source": [
    "## Commercial Units Min"
   ]
  },
  {
   "cell_type": "code",
   "execution_count": 39,
   "metadata": {},
   "outputs": [
    {
     "name": "stdout",
     "output_type": "stream",
     "text": [
      "1\n"
     ]
    }
   ],
   "source": [
    "rolling_sales_df.loc[rolling_sales_df['COMMERCIAL UNITS'] == 0,:'COMMERCIAL UNITS'] = np.NaN\n",
    "\n",
    "commercial_min = rolling_sales_df['COMMERCIAL UNITS'].min(skipna=True)\n",
    "print(int(commercial_min))"
   ]
  },
  {
   "cell_type": "markdown",
   "metadata": {},
   "source": [
    "## Commercial Units Mean"
   ]
  },
  {
   "cell_type": "code",
   "execution_count": 40,
   "metadata": {},
   "outputs": [
    {
     "name": "stdout",
     "output_type": "stream",
     "text": [
      "Durchschnittlich sind 3 Gewerbeeinheiten auf einem Grundstück.\n"
     ]
    }
   ],
   "source": [
    "rolling_sales_df.loc[rolling_sales_df['COMMERCIAL UNITS'] == 0,:'COMMERCIAL UNITS'] = np.NaN\n",
    "\n",
    "commercial_mean = rolling_sales_df['COMMERCIAL UNITS'].mean()\n",
    "print(\"Durchschnittlich sind\", int(commercial_mean), \"Gewerbeeinheiten auf einem Grundstück.\")"
   ]
  },
  {
   "cell_type": "markdown",
   "metadata": {},
   "source": [
    "## Wo gibt es die meisten Gewerbeeinheiten je Grundstück?"
   ]
  },
  {
   "cell_type": "code",
   "execution_count": 41,
   "metadata": {},
   "outputs": [
    {
     "name": "stdout",
     "output_type": "stream",
     "text": [
      "1.0       3532\n",
      "2.0        817\n",
      "3.0        259\n",
      "4.0        137\n",
      "5.0         74\n",
      "6.0         70\n",
      "7.0         31\n",
      "8.0         26\n",
      "9.0         20\n",
      "10.0        17\n",
      "12.0        12\n",
      "15.0        11\n",
      "11.0         9\n",
      "14.0         6\n",
      "17.0         6\n",
      "20.0         4\n",
      "35.0         4\n",
      "254.0        4\n",
      "13.0         4\n",
      "18.0         3\n",
      "22.0         3\n",
      "42.0         3\n",
      "19.0         3\n",
      "25.0         2\n",
      "26.0         2\n",
      "16.0         2\n",
      "422.0        2\n",
      "126.0        2\n",
      "436.0        2\n",
      "172.0        1\n",
      "56.0         1\n",
      "21.0         1\n",
      "55.0         1\n",
      "32.0         1\n",
      "38.0         1\n",
      "52.0         1\n",
      "49.0         1\n",
      "67.0         1\n",
      "59.0         1\n",
      "62.0         1\n",
      "24.0         1\n",
      "318.0        1\n",
      "31.0         1\n",
      "34.0         1\n",
      "91.0         1\n",
      "51.0         1\n",
      "28.0         1\n",
      "2261.0       1\n",
      "147.0        1\n",
      "30.0         1\n",
      "23.0         1\n",
      "27.0         1\n",
      "73.0         1\n",
      "184.0        1\n",
      "Name: COMMERCIAL UNITS, dtype: int64\n",
      "         RESIDENTIAL UNITS\n",
      "BOROUGH                   \n",
      "1.0                15696.0\n",
      "2.0                 5726.0\n",
      "3.0                 5418.0\n",
      "4.0                 7496.0\n",
      "5.0                  218.0\n"
     ]
    }
   ],
   "source": [
    "commercial_most = rolling_sales_df['COMMERCIAL UNITS'].value_counts()\n",
    "print(commercial_most)\n",
    "commercial_grouped = rolling_sales_df.groupby(['BOROUGH']).sum()\n",
    "del commercial_grouped['LOT']\n",
    "del commercial_grouped['BLOCK']\n",
    "del commercial_grouped['ZIP CODE']\n",
    "del commercial_grouped['Unnamed: 0']\n",
    "del commercial_grouped['COMMERCIAL UNITS']\n",
    "del commercial_grouped['TOTAL UNITS']\n",
    "del commercial_grouped['YEAR BUILT']\n",
    "del commercial_grouped['TAX CLASS AT TIME OF SALE']\n",
    "print(commercial_grouped)\n",
    "\n",
    "\n",
    "# wie bekomme ich hier Manhatten, Brooklyn, etc. zugeordnet zu 1, 2, 3, 4....?\n",
    "\n",
    "\n",
    "\n"
   ]
  },
  {
   "cell_type": "code",
   "execution_count": 41,
   "metadata": {},
   "outputs": [],
   "source": []
  },
  {
   "cell_type": "code",
   "execution_count": 41,
   "metadata": {},
   "outputs": [],
   "source": []
  },
  {
   "cell_type": "code",
   "execution_count": 41,
   "metadata": {},
   "outputs": [],
   "source": []
  },
  {
   "cell_type": "code",
   "execution_count": 41,
   "metadata": {},
   "outputs": [],
   "source": []
  }
 ],
 "metadata": {
  "kernelspec": {
   "display_name": "Python 3",
   "language": "python",
   "name": "python3"
  },
  "language_info": {
   "codemirror_mode": {
    "name": "ipython",
    "version": 3
   },
   "file_extension": ".py",
   "mimetype": "text/x-python",
   "name": "python",
   "nbconvert_exporter": "python",
   "pygments_lexer": "ipython3",
   "version": "3.8.3"
  }
 },
 "nbformat": 4,
 "nbformat_minor": 4
}