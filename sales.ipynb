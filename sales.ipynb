{
 "cells": [
  {
   "cell_type": "markdown",
   "source": [
    "# Sales Analysis"
   ],
   "metadata": {
    "collapsed": false
   }
  },
  {
   "cell_type": "code",
   "execution_count": 1414,
   "outputs": [
    {
     "name": "stdout",
     "output_type": "stream",
     "text": [
      "BOROUGH                            int64\n",
      "NEIGHBORHOOD                      object\n",
      "BUILDING CLASS CATEGORY           object\n",
      "TAX CLASS AT PRESENT              object\n",
      "BLOCK                              int64\n",
      "LOT                                int64\n",
      "EASE-MENT                         object\n",
      "BUILDING CLASS AT PRESENT         object\n",
      "ADDRESS                           object\n",
      "APARTMENT NUMBER                  object\n",
      "ZIP CODE                           int64\n",
      "RESIDENTIAL UNITS                  int64\n",
      "COMMERCIAL UNITS                   int64\n",
      "TOTAL UNITS                        int64\n",
      "LAND SQUARE FEET                  object\n",
      "GROSS SQUARE FEET                 object\n",
      "YEAR BUILT                         int64\n",
      "TAX CLASS AT TIME OF SALE          int64\n",
      "BUILDING CLASS AT TIME OF SALE    object\n",
      "SALE PRICE                        object\n",
      "SALE DATE                         object\n",
      "dtype: object\n"
     ]
    }
   ],
   "source": [
    "# Imports\n",
    "import pandas as pd\n",
    "import functions as fc\n",
    "\n",
    "# Read input file\n",
    "sales_frame = fc.read_csv(\"data/nyc-rolling-sales.csv\")\n",
    "\n",
    "\n",
    "# Dropping some unnecessary information\n",
    "sales_frame = sales_frame.drop([\"Unnamed: 0\"], axis=1)\n",
    "\n",
    "# Printing head of the Data Frame\n",
    "#print(sales_frame.head())\n",
    "# Data Types of the Data Frame\n",
    "print(sales_frame.dtypes)\n",
    "\n",
    "# Changing format of boroughs to string (from int)\n",
    "sales_frame[\"BOROUGH\"] = sales_frame[\"BOROUGH\"].apply(str)\n",
    "# Changing format of sale price to numeric (from str)\n",
    "sales_frame[\"SALE PRICE\"] = pd.to_numeric(sales_frame[\"SALE PRICE\"], errors=\"coerce\")\n",
    "# Changing format of sale date to datetime (from str)\n",
    "sales_frame[\"SALE DATE\"] = pd.to_datetime(sales_frame[\"SALE DATE\"], errors=\"coerce\")"
   ],
   "metadata": {
    "collapsed": false,
    "pycharm": {
     "name": "#%%\n"
    }
   }
  },
  {
   "cell_type": "markdown",
   "source": [
    "## Sales per Year"
   ],
   "metadata": {
    "collapsed": false,
    "pycharm": {
     "name": "#%% md\n"
    }
   }
  },
  {
   "cell_type": "code",
   "execution_count": 1415,
   "outputs": [
    {
     "name": "stdout",
     "output_type": "stream",
     "text": [
      "The sales projected in the data frame were made between the 2016-09-01 00:00:00 and 2017-08-31 00:00:00.\n"
     ]
    }
   ],
   "source": [
    "# Calculating the start and end date of the data frame\n",
    "sales_beg = sales_frame[\"SALE DATE\"].min()\n",
    "sales_end = sales_frame[\"SALE DATE\"].max()\n",
    "print(\"The sales projected in the data frame were made between the \", sales_beg, \" and \", sales_end, \".\", sep=\"\")"
   ],
   "metadata": {
    "collapsed": false,
    "pycharm": {
     "name": "#%%\n"
    }
   }
  },
  {
   "cell_type": "markdown",
   "source": [
    "### 2016"
   ],
   "metadata": {
    "collapsed": false
   }
  },
  {
   "cell_type": "code",
   "execution_count": 1416,
   "outputs": [
    {
     "name": "stdout",
     "output_type": "stream",
     "text": [
      "The number of sales in the year 2016 was 29493 with the most expensive sale being $620000000 and the average sale being $1310520.\n",
      "\n",
      "The total amount spent for property sales in 2016 was $31637273303.\n"
     ]
    }
   ],
   "source": [
    "#Calculating number of sales/mean and top sale in 2016\n",
    "sales_2016 = sales_frame[sales_frame[\"SALE DATE\"].dt.year == 2016]\n",
    "sales_max_2016 = sales_2016[\"SALE PRICE\"].max()\n",
    "sales_mean_2016 = sales_2016[\"SALE PRICE\"].mean()\n",
    "sales_total_2016 = sales_2016[\"SALE PRICE\"].sum()\n",
    "print(\"The number of sales in the year 2016 was \", len(sales_2016), \" with the most expensive sale being $\", int(sales_max_2016), \" and the average sale being $\", int(sales_mean_2016), \".\", sep=\"\")\n",
    "print(\"\\nThe total amount spent for property sales in 2016 was $\", int(sales_total_2016), \".\", sep=\"\")"
   ],
   "metadata": {
    "collapsed": false,
    "pycharm": {
     "name": "#%%\n"
    }
   }
  },
  {
   "cell_type": "markdown",
   "source": [
    "### 2017"
   ],
   "metadata": {
    "collapsed": false,
    "pycharm": {
     "name": "#%% md\n"
    }
   }
  },
  {
   "cell_type": "code",
   "execution_count": 1417,
   "outputs": [
    {
     "name": "stdout",
     "output_type": "stream",
     "text": [
      "The number of sales in the year 2017 was 55055 with the most expensive sale being $2210000000 and the average sale being $1258519.\n",
      "\n",
      "The total amount spent for property sales in 2017 was $57698087606.\n"
     ]
    }
   ],
   "source": [
    "# Calculating number of sales/mean and top sale in 2017\n",
    "sales_2017 = sales_frame[sales_frame[\"SALE DATE\"].dt.year == 2017]\n",
    "sales_max_2017 = sales_2017[\"SALE PRICE\"].max()\n",
    "sales_mean_2017 = sales_2017[\"SALE PRICE\"].mean()\n",
    "sales_total_2017 = sales_2017[\"SALE PRICE\"].sum()\n",
    "print(\"The number of sales in the year 2017 was \", len(sales_2017), \" with the most expensive sale being $\", int(sales_max_2017), \" and the average sale being $\", int(sales_mean_2017),\".\", sep=\"\")\n",
    "print(\"\\nThe total amount spent for property sales in 2017 was $\", int(sales_total_2017), \".\", sep=\"\")\n",
    "# Median is a lot lower because of high the number of sales with $0 sale price"
   ],
   "metadata": {
    "collapsed": false,
    "pycharm": {
     "name": "#%%\n"
    }
   }
  },
  {
   "cell_type": "markdown",
   "source": [
    "## Sales per Month\n",
    "\n",
    "\n",
    "##### January"
   ],
   "metadata": {
    "collapsed": false,
    "pycharm": {
     "name": "#%% md\n"
    }
   }
  },
  {
   "cell_type": "code",
   "execution_count": 1418,
   "outputs": [
    {
     "name": "stdout",
     "output_type": "stream",
     "text": [
      "2016: 0\n",
      "2017: 6871\n"
     ]
    }
   ],
   "source": [
    "sales_jan_2016 = sales_2016[sales_2016[\"SALE DATE\"].dt.month == 1]\n",
    "print(\"2016:\", len(sales_jan_2016))\n",
    "sales_jan_2017 = sales_2017[sales_2017[\"SALE DATE\"].dt.month == 1]\n",
    "print(\"2017:\", len(sales_jan_2017))"
   ],
   "metadata": {
    "collapsed": false,
    "pycharm": {
     "name": "#%%\n"
    }
   }
  },
  {
   "cell_type": "markdown",
   "source": [
    "##### February"
   ],
   "metadata": {
    "collapsed": false
   }
  },
  {
   "cell_type": "code",
   "execution_count": 1419,
   "outputs": [
    {
     "name": "stdout",
     "output_type": "stream",
     "text": [
      "2016: 0\n",
      "2017: 6323\n"
     ]
    }
   ],
   "source": [
    "sales_feb_2016 = sales_2016[sales_2016[\"SALE DATE\"].dt.month == 2]\n",
    "print(\"2016:\", len(sales_feb_2016))\n",
    "sales_feb_2017 = sales_2017[sales_2017[\"SALE DATE\"].dt.month == 2]\n",
    "print(\"2017:\", len(sales_feb_2017))"
   ],
   "metadata": {
    "collapsed": false,
    "pycharm": {
     "name": "#%%\n"
    }
   }
  },
  {
   "cell_type": "markdown",
   "source": [
    "##### March"
   ],
   "metadata": {
    "collapsed": false
   }
  },
  {
   "cell_type": "code",
   "execution_count": 1420,
   "outputs": [
    {
     "name": "stdout",
     "output_type": "stream",
     "text": [
      "2016: 0\n",
      "2017: 7705\n"
     ]
    }
   ],
   "source": [
    "sales_mar_2016 = sales_2016[sales_2016[\"SALE DATE\"].dt.month == 3]\n",
    "print(\"2016:\", len(sales_mar_2016))\n",
    "sales_mar_2017 = sales_2017[sales_2017[\"SALE DATE\"].dt.month == 3]\n",
    "print(\"2017:\", len(sales_mar_2017))"
   ],
   "metadata": {
    "collapsed": false,
    "pycharm": {
     "name": "#%%\n"
    }
   }
  },
  {
   "cell_type": "markdown",
   "source": [
    "##### April"
   ],
   "metadata": {
    "collapsed": false
   }
  },
  {
   "cell_type": "code",
   "execution_count": 1421,
   "outputs": [
    {
     "name": "stdout",
     "output_type": "stream",
     "text": [
      "2016: 0\n",
      "2017: 6402\n"
     ]
    }
   ],
   "source": [
    "sales_apr_2016 = sales_2016[sales_2016[\"SALE DATE\"].dt.month == 4]\n",
    "print(\"2016:\", len(sales_apr_2016))\n",
    "sales_apr_2017 = sales_2017[sales_2017[\"SALE DATE\"].dt.month == 4]\n",
    "print(\"2017:\", len(sales_apr_2017))"
   ],
   "metadata": {
    "collapsed": false,
    "pycharm": {
     "name": "#%%\n"
    }
   }
  },
  {
   "cell_type": "markdown",
   "source": [
    "##### May"
   ],
   "metadata": {
    "collapsed": false
   }
  },
  {
   "cell_type": "code",
   "execution_count": 1422,
   "outputs": [
    {
     "name": "stdout",
     "output_type": "stream",
     "text": [
      "2016: 0\n",
      "2017: 7461\n"
     ]
    }
   ],
   "source": [
    "sales_may_2016 = sales_2016[sales_2016[\"SALE DATE\"].dt.month == 5]\n",
    "print(\"2016:\", len(sales_may_2016))\n",
    "sales_may_2017 = sales_2017[sales_2017[\"SALE DATE\"].dt.month == 5]\n",
    "print(\"2017:\", len(sales_may_2017))"
   ],
   "metadata": {
    "collapsed": false,
    "pycharm": {
     "name": "#%%\n"
    }
   }
  },
  {
   "cell_type": "markdown",
   "source": [
    "##### June"
   ],
   "metadata": {
    "collapsed": false
   }
  },
  {
   "cell_type": "code",
   "execution_count": 1423,
   "outputs": [
    {
     "name": "stdout",
     "output_type": "stream",
     "text": [
      "2016: 0\n",
      "2017: 8293\n"
     ]
    }
   ],
   "source": [
    "sales_jun_2016 = sales_2016[sales_2016[\"SALE DATE\"].dt.month == 6]\n",
    "print(\"2016:\", len(sales_jun_2016))\n",
    "sales_jun_2017 = sales_2017[sales_2017[\"SALE DATE\"].dt.month == 6]\n",
    "print(\"2017:\", len(sales_jun_2017))"
   ],
   "metadata": {
    "collapsed": false,
    "pycharm": {
     "name": "#%%\n"
    }
   }
  },
  {
   "cell_type": "markdown",
   "source": [
    "##### July"
   ],
   "metadata": {
    "collapsed": false
   }
  },
  {
   "cell_type": "code",
   "execution_count": 1424,
   "outputs": [
    {
     "name": "stdout",
     "output_type": "stream",
     "text": [
      "2016: 0\n",
      "2017: 6319\n"
     ]
    }
   ],
   "source": [
    "sales_jul_2016 = sales_2016[sales_2016[\"SALE DATE\"].dt.month == 7]\n",
    "print(\"2016:\", len(sales_jul_2016))\n",
    "sales_jul_2017 = sales_2017[sales_2017[\"SALE DATE\"].dt.month == 7]\n",
    "print(\"2017:\", len(sales_jul_2017))"
   ],
   "metadata": {
    "collapsed": false,
    "pycharm": {
     "name": "#%%\n"
    }
   }
  },
  {
   "cell_type": "markdown",
   "source": [
    "##### August"
   ],
   "metadata": {
    "collapsed": false
   }
  },
  {
   "cell_type": "code",
   "execution_count": 1425,
   "outputs": [
    {
     "name": "stdout",
     "output_type": "stream",
     "text": [
      "2016: 0\n",
      "2017: 5681\n"
     ]
    }
   ],
   "source": [
    "sales_aug_2016 = sales_2016[sales_2016[\"SALE DATE\"].dt.month == 8]\n",
    "print(\"2016:\", len(sales_aug_2016))\n",
    "sales_aug_2017 = sales_2017[sales_2017[\"SALE DATE\"].dt.month == 8]\n",
    "print(\"2017:\", len(sales_aug_2017))"
   ],
   "metadata": {
    "collapsed": false,
    "pycharm": {
     "name": "#%%\n"
    }
   }
  },
  {
   "cell_type": "markdown",
   "source": [
    "##### September"
   ],
   "metadata": {
    "collapsed": false
   }
  },
  {
   "cell_type": "code",
   "execution_count": 1426,
   "outputs": [
    {
     "name": "stdout",
     "output_type": "stream",
     "text": [
      "2016: 7779\n",
      "2017: 0\n"
     ]
    }
   ],
   "source": [
    "sales_sep_2016 = sales_2016[sales_2016[\"SALE DATE\"].dt.month == 9]\n",
    "print(\"2016:\", len(sales_sep_2016))\n",
    "sales_sep_2017 = sales_2017[sales_2017[\"SALE DATE\"].dt.month == 9]\n",
    "print(\"2017:\", len(sales_sep_2017))"
   ],
   "metadata": {
    "collapsed": false,
    "pycharm": {
     "name": "#%%\n"
    }
   }
  },
  {
   "cell_type": "markdown",
   "source": [
    "##### October"
   ],
   "metadata": {
    "collapsed": false
   }
  },
  {
   "cell_type": "code",
   "execution_count": 1427,
   "outputs": [
    {
     "name": "stdout",
     "output_type": "stream",
     "text": [
      "2016: 6751\n",
      "2017: 0\n"
     ]
    }
   ],
   "source": [
    "sales_oct_2016 = sales_2016[sales_2016[\"SALE DATE\"].dt.month == 10]\n",
    "print(\"2016:\", len(sales_oct_2016))\n",
    "sales_oct_2017 = sales_2017[sales_2017[\"SALE DATE\"].dt.month == 10]\n",
    "print(\"2017:\", len(sales_oct_2017))"
   ],
   "metadata": {
    "collapsed": false,
    "pycharm": {
     "name": "#%%\n"
    }
   }
  },
  {
   "cell_type": "markdown",
   "source": [
    "##### November"
   ],
   "metadata": {
    "collapsed": false
   }
  },
  {
   "cell_type": "code",
   "execution_count": 1428,
   "outputs": [
    {
     "name": "stdout",
     "output_type": "stream",
     "text": [
      "2016: 7072\n",
      "2017: 0\n"
     ]
    }
   ],
   "source": [
    "sales_nov_2016 = sales_2016[sales_2016[\"SALE DATE\"].dt.month == 11]\n",
    "print(\"2016:\", len(sales_nov_2016))\n",
    "sales_nov_2017 = sales_2017[sales_2017[\"SALE DATE\"].dt.month == 11]\n",
    "print(\"2017:\", len(sales_nov_2017))"
   ],
   "metadata": {
    "collapsed": false,
    "pycharm": {
     "name": "#%%\n"
    }
   }
  },
  {
   "cell_type": "markdown",
   "source": [
    "##### December"
   ],
   "metadata": {
    "collapsed": false
   }
  },
  {
   "cell_type": "code",
   "execution_count": 1429,
   "outputs": [
    {
     "name": "stdout",
     "output_type": "stream",
     "text": [
      "2016: 7891\n",
      "2017: 0\n"
     ]
    }
   ],
   "source": [
    "sales_dec_2016 = sales_2016[sales_2016[\"SALE DATE\"].dt.month == 12]\n",
    "print(\"2016:\", len(sales_dec_2016))\n",
    "sales_dec_2017 = sales_2017[sales_2017[\"SALE DATE\"].dt.month == 12]\n",
    "print(\"2017:\", len(sales_dec_2017))"
   ],
   "metadata": {
    "collapsed": false,
    "pycharm": {
     "name": "#%%\n"
    }
   }
  },
  {
   "cell_type": "markdown",
   "source": [
    "## Transactions without Sale Price"
   ],
   "metadata": {
    "collapsed": false,
    "pycharm": {
     "name": "#%% md\n"
    }
   }
  },
  {
   "cell_type": "code",
   "execution_count": 1430,
   "outputs": [
    {
     "name": "stdout",
     "output_type": "stream",
     "text": [
      "The number of property sales with a sale price of $0 is 10228.\n",
      "The number of all property sales is 84548.\n",
      "This equals to about 12.1%\n"
     ]
    }
   ],
   "source": [
    "# Calculating sales without sale price\n",
    "sales_zero = sales_frame[sales_frame[\"SALE PRICE\"] == 0]\n",
    "print(\"The number of property sales with a sale price of $0 is \", len(sales_zero), \".\", sep=\"\")\n",
    "# Measuring total number of sales\n",
    "print(\"The number of all property sales is \", len(sales_frame), \".\", sep=\"\")\n",
    "# Sales without sale price in relation to all sales\n",
    "sales_zero_percent = len(sales_frame[sales_frame[\"SALE PRICE\"] == 0]) / len(sales_frame)\n",
    "print(\"This equals to about \", round(sales_zero_percent * 100, 2), \"%\", sep=\"\")"
   ],
   "metadata": {
    "collapsed": false,
    "pycharm": {
     "name": "#%%\n"
    }
   }
  },
  {
   "cell_type": "markdown",
   "source": [
    "#### Reasons for that"
   ],
   "metadata": {
    "collapsed": false,
    "pycharm": {
     "name": "#%% md\n"
    }
   }
  },
  {
   "cell_type": "code",
   "execution_count": 1431,
   "outputs": [
    {
     "name": "stdout",
     "output_type": "stream",
     "text": [
      "\n",
      "A $0 sale indicates that there was a transfer of ownership without cash consideration. \n",
      "There can be a number of reasons for that, for example transfers of ownership from parents to children.\n",
      "\n",
      "There is also a small number of sales (912) that were made for insignificant values (for example < $100), which suggests the same as above.\n"
     ]
    }
   ],
   "source": [
    "# Reasons for sale price of $0\n",
    "print(\"\\nA $0 sale indicates that there was a transfer of ownership without cash consideration. \\nThere can be a number of reasons for that, for example transfers of ownership from parents to children.\")\n",
    "sales_almost_zero = sales_frame[(sales_frame[\"SALE PRICE\"] < 100) & sales_frame[\"SALE PRICE\"] != 0]\n",
    "print(\"\\nThere is also a small number of sales (\", len(sales_almost_zero), \") that were made for insignificant values (for example < $100), which suggests the same as above.\", sep=\"\")"
   ],
   "metadata": {
    "collapsed": false,
    "pycharm": {
     "name": "#%%\n"
    }
   }
  },
  {
   "cell_type": "markdown",
   "source": [
    "## Locations of properties\n",
    "\n",
    "\n",
    "### Sales in different boroughs"
   ],
   "metadata": {
    "collapsed": false,
    "pycharm": {
     "name": "#%% md\n"
    }
   }
  },
  {
   "cell_type": "code",
   "execution_count": 1432,
   "outputs": [
    {
     "name": "stdout",
     "output_type": "stream",
     "text": [
      "(1) Manhattan: 18306\n",
      "(2) Brooklyn: 7049\n",
      "(3) Queens: 24047\n",
      "(4) The Bronx: 26736\n",
      "(5) Staten Island: 8410\n"
     ]
    }
   ],
   "source": [
    "# Sorting the sales by boroughs\n",
    "sales_manhattan = sales_frame[sales_frame[\"BOROUGH\"] == \"1\"]\n",
    "sales_brooklyn = sales_frame[sales_frame[\"BOROUGH\"] == \"2\"]\n",
    "sales_queens = sales_frame[sales_frame[\"BOROUGH\"] == \"3\"]\n",
    "sales_the_bronx = sales_frame[sales_frame[\"BOROUGH\"] == \"4\"]\n",
    "sales_staten_island = sales_frame[sales_frame[\"BOROUGH\"] == \"5\"]\n",
    "print(\"(1) Manhattan:\", len(sales_manhattan))\n",
    "print(\"(2) Brooklyn:\", len(sales_brooklyn))\n",
    "print(\"(3) Queens:\", len(sales_queens))\n",
    "print(\"(4) The Bronx:\", len(sales_the_bronx))\n",
    "print(\"(5) Staten Island:\", len(sales_staten_island))"
   ],
   "metadata": {
    "collapsed": false,
    "pycharm": {
     "name": "#%%\n"
    }
   }
  },
  {
   "cell_type": "markdown",
   "source": [
    "### Sales in different neighborhoods\n",
    "\n",
    "\n",
    "#### Top in Manhattan"
   ],
   "metadata": {
    "collapsed": false
   }
  },
  {
   "cell_type": "code",
   "execution_count": 1433,
   "outputs": [
    {
     "name": "stdout",
     "output_type": "stream",
     "text": [
      "UPPER EAST SIDE (59-79)      1736\n",
      "UPPER EAST SIDE (79-96)      1590\n",
      "UPPER WEST SIDE (59-79)      1439\n",
      "MIDTOWN EAST                 1418\n",
      "UPPER WEST SIDE (79-96)      1004\n",
      "MIDTOWN WEST                  918\n",
      "HARLEM-CENTRAL                847\n",
      "CHELSEA                       803\n",
      "TRIBECA                       655\n",
      "GREENWICH VILLAGE-CENTRAL     638\n",
      "Name: NEIGHBORHOOD, dtype: int64\n"
     ]
    }
   ],
   "source": [
    "sales_m_neighbor = sales_manhattan[\"NEIGHBORHOOD\"].value_counts()\n",
    "print(sales_m_neighbor.nlargest(10))"
   ],
   "metadata": {
    "collapsed": false,
    "pycharm": {
     "name": "#%%\n"
    }
   }
  },
  {
   "cell_type": "markdown",
   "source": [
    "#### Top in Brooklyn"
   ],
   "metadata": {
    "collapsed": false
   }
  },
  {
   "cell_type": "code",
   "execution_count": 1434,
   "outputs": [
    {
     "name": "stdout",
     "output_type": "stream",
     "text": [
      "RIVERDALE                   647\n",
      "SOUNDVIEW                   499\n",
      "PARKCHESTER                 455\n",
      "WILLIAMSBRIDGE              440\n",
      "BAYCHESTER                  436\n",
      "MORRISANIA/LONGWOOD         358\n",
      "THROGS NECK                 352\n",
      "BRONXDALE                   332\n",
      "MORRIS PARK/VAN NEST        276\n",
      "SCHUYLERVILLE/PELHAM BAY    264\n",
      "Name: NEIGHBORHOOD, dtype: int64\n"
     ]
    }
   ],
   "source": [
    "sales_b_neighbor = sales_brooklyn[\"NEIGHBORHOOD\"].value_counts()\n",
    "print(sales_b_neighbor.nlargest(10))"
   ],
   "metadata": {
    "collapsed": false,
    "pycharm": {
     "name": "#%%\n"
    }
   }
  },
  {
   "cell_type": "markdown",
   "source": [
    "#### Top in Queens"
   ],
   "metadata": {
    "collapsed": false
   }
  },
  {
   "cell_type": "code",
   "execution_count": 1435,
   "outputs": [
    {
     "name": "stdout",
     "output_type": "stream",
     "text": [
      "BEDFORD STUYVESANT    1436\n",
      "BOROUGH PARK          1245\n",
      "SHEEPSHEAD BAY        1013\n",
      "EAST NEW YORK          982\n",
      "FLATBUSH-EAST          846\n",
      "BAY RIDGE              832\n",
      "CROWN HEIGHTS          793\n",
      "CANARSIE               783\n",
      "BUSHWICK               769\n",
      "PARK SLOPE             706\n",
      "Name: NEIGHBORHOOD, dtype: int64\n"
     ]
    }
   ],
   "source": [
    "sales_q_neighbor = sales_queens[\"NEIGHBORHOOD\"].value_counts()\n",
    "print(sales_q_neighbor.nlargest(10))"
   ],
   "metadata": {
    "collapsed": false,
    "pycharm": {
     "name": "#%%\n"
    }
   }
  },
  {
   "cell_type": "markdown",
   "source": [
    "#### Top in The Bronx"
   ],
   "metadata": {
    "collapsed": false
   }
  },
  {
   "cell_type": "code",
   "execution_count": 1436,
   "outputs": [
    {
     "name": "stdout",
     "output_type": "stream",
     "text": [
      "FLUSHING-NORTH     3068\n",
      "ASTORIA            1216\n",
      "BAYSIDE            1150\n",
      "FOREST HILLS       1069\n",
      "JACKSON HEIGHTS     992\n",
      "FLUSHING-SOUTH      918\n",
      "ELMHURST            802\n",
      "RICHMOND HILL       749\n",
      "REGO PARK           721\n",
      "CORONA              647\n",
      "Name: NEIGHBORHOOD, dtype: int64\n"
     ]
    }
   ],
   "source": [
    "sales_tb_neighbor = sales_the_bronx[\"NEIGHBORHOOD\"].value_counts()\n",
    "print(sales_tb_neighbor.nlargest(10))"
   ],
   "metadata": {
    "collapsed": false,
    "pycharm": {
     "name": "#%%\n"
    }
   }
  },
  {
   "cell_type": "markdown",
   "source": [
    "#### Top in Staten Island"
   ],
   "metadata": {
    "collapsed": false
   }
  },
  {
   "cell_type": "code",
   "execution_count": 1437,
   "outputs": [
    {
     "name": "stdout",
     "output_type": "stream",
     "text": [
      "GREAT KILLS          776\n",
      "NEW SPRINGVILLE      590\n",
      "BULLS HEAD           393\n",
      "ELTINGVILLE          345\n",
      "MIDLAND BEACH        316\n",
      "WEST NEW BRIGHTON    315\n",
      "PORT RICHMOND        288\n",
      "ARDEN HEIGHTS        278\n",
      "MARINERS HARBOR      273\n",
      "WESTERLEIGH          267\n",
      "Name: NEIGHBORHOOD, dtype: int64\n"
     ]
    }
   ],
   "source": [
    "sales_si_neighbor = sales_staten_island[\"NEIGHBORHOOD\"].value_counts()\n",
    "print(sales_si_neighbor.nlargest(10))"
   ],
   "metadata": {
    "collapsed": false,
    "pycharm": {
     "name": "#%%\n"
    }
   }
  },
  {
   "cell_type": "markdown",
   "source": [
    "### Buildings sold per building class"
   ],
   "metadata": {
    "collapsed": false,
    "pycharm": {
     "name": "#%% md\n"
    }
   }
  },
  {
   "cell_type": "code",
   "execution_count": 1438,
   "outputs": [
    {
     "name": "stdout",
     "output_type": "stream",
     "text": [
      "01 ONE FAMILY DWELLINGS                         18235\n",
      "02 TWO FAMILY DWELLINGS                         15828\n",
      "13 CONDOS - ELEVATOR APARTMENTS                 12989\n",
      "10 COOPS - ELEVATOR APARTMENTS                  12902\n",
      "03 THREE FAMILY DWELLINGS                        4384\n",
      "07 RENTALS - WALKUP APARTMENTS                   3466\n",
      "09 COOPS - WALKUP APARTMENTS                     2767\n",
      "04 TAX CLASS 1 CONDOS                            1656\n",
      "44 CONDO PARKING                                 1441\n",
      "15 CONDOS - 2-10 UNIT RESIDENTIAL                1281\n",
      "05 TAX CLASS 1 VACANT LAND                       1248\n",
      "17 CONDO COOPS                                   1201\n",
      "22 STORE BUILDINGS                                935\n",
      "12 CONDOS - WALKUP APARTMENTS                     926\n",
      "14 RENTALS - 4-10 UNIT                            671\n",
      "29 COMMERCIAL GARAGES                             587\n",
      "43 CONDO OFFICE BUILDINGS                         475\n",
      "31 COMMERCIAL VACANT LAND                         463\n",
      "08 RENTALS - ELEVATOR APARTMENTS                  382\n",
      "47 CONDO NON-BUSINESS STORAGE                     377\n",
      "21 OFFICE BUILDINGS                               350\n",
      "30 WAREHOUSES                                     326\n",
      "45 CONDO HOTELS                                   211\n",
      "27 FACTORIES                                      201\n",
      "06 TAX CLASS 1 - OTHER                            182\n",
      "41 TAX CLASS 4 - OTHER                            158\n",
      "46 CONDO STORE BUILDINGS                          154\n",
      "26 OTHER HOTELS                                   114\n",
      "37 RELIGIOUS FACILITIES                           100\n",
      "16 CONDOS - 2-10 UNIT WITH COMMERCIAL UNIT         96\n",
      "33 EDUCATIONAL FACILITIES                          69\n",
      "32 HOSPITAL AND HEALTH FACILITIES                  59\n",
      "48 CONDO TERRACES/GARDENS/CABANAS                  47\n",
      "23 LOFT BUILDINGS                                  46\n",
      "11A CONDO-RENTALS                                  43\n",
      "35 INDOOR PUBLIC AND CULTURAL FACILITIES           32\n",
      "49 CONDO WAREHOUSES/FACTORY/INDUS                  30\n",
      "28 COMMERCIAL CONDOS                               30\n",
      "38 ASYLUMS AND HOMES                               25\n",
      "36 OUTDOOR RECREATIONAL FACILITIES                 14\n",
      "42 CONDO CULTURAL/MEDICAL/EDUCATIONAL/ETC          13\n",
      "34 THEATRES                                        12\n",
      "25 LUXURY HOTELS                                   12\n",
      "18 TAX CLASS 3 - UNTILITY PROPERTIES                4\n",
      "11 SPECIAL CONDO BILLING LOTS                       2\n",
      "40 SELECTED GOVERNMENTAL FACILITIES                 2\n",
      "39 TRANSPORTATION FACILITIES                        2\n",
      "Name: BUILDING CLASS CATEGORY, dtype: int64\n",
      "                                                                    SALE PRICE\n",
      "BOROUGH NEIGHBORHOOD  BUILDING CLASS CATEGORY                                 \n",
      "1       ALPHABET CITY 07 RENTALS - WALKUP APARTMENTS                21754112.0\n",
      "                      08 RENTALS - ELEVATOR APARTMENTS              26582000.0\n",
      "                      09 COOPS - WALKUP APARTMENTS                  52740523.0\n",
      "                      10 COOPS - ELEVATOR APARTMENTS                 2593900.0\n",
      "                      11A CONDO-RENTALS                             88683923.0\n",
      "...                                                                        ...\n",
      "5       WILLOWBROOK   44 CONDO PARKING                                  5000.0\n",
      "        WOODROW       01 ONE FAMILY DWELLINGS                       29996785.0\n",
      "                      02 TWO FAMILY DWELLINGS                       20974102.0\n",
      "                      22 STORE BUILDINGS                            11693337.0\n",
      "                      35 INDOOR PUBLIC AND CULTURAL FACILITIES         69300.0\n",
      "\n",
      "[3349 rows x 1 columns]\n"
     ]
    }
   ],
   "source": [
    "sales_per_building_class = sales_frame[\"BUILDING CLASS CATEGORY\"].value_counts()\n",
    "print(sales_per_building_class)\n",
    "#sales_per_building_class_value = sales_frame.groupby([\"BUILDING CLASS CATEGORY\"])[\"SALE PRICE\"].agg(\"sum\")\n",
    "#print(sales_per_building_class_value)\n",
    "sales_grouped = sales_frame.groupby(['BOROUGH','NEIGHBORHOOD', 'BUILDING CLASS CATEGORY']).sum()\n",
    "columns_del = [ \"BLOCK\", \"LOT\", \"ZIP CODE\", \"RESIDENTIAL UNITS\", \"COMMERCIAL UNITS\", \"TOTAL UNITS\", \"YEAR BUILT\", \"TAX CLASS AT TIME OF SALE\"]\n",
    "sales_grouped = sales_grouped.drop(columns_del, 1)\n",
    "print(sales_grouped)\n",
    "\n",
    "#exporting csv of sales value grouped by borough, neighborhood, building class category\n",
    "sales_grouped.to_csv(\"data/grouped_sales.csv\", index_label=[\"BOROUGH\", \"NEIGHBORHOOD\", \"BUILDING CLASS CATEGORY\"])"
   ],
   "metadata": {
    "collapsed": false,
    "pycharm": {
     "name": "#%%\n"
    }
   }
  }
 ],
 "metadata": {
  "kernelspec": {
   "display_name": "Python 3",
   "language": "python",
   "name": "python3"
  },
  "language_info": {
   "codemirror_mode": {
    "name": "ipython",
    "version": 2
   },
   "file_extension": ".py",
   "mimetype": "text/x-python",
   "name": "python",
   "nbconvert_exporter": "python",
   "pygments_lexer": "ipython2",
   "version": "2.7.6"
  }
 },
 "nbformat": 4,
 "nbformat_minor": 0
}