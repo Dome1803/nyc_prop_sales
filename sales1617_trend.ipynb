{
 "cells": [
  {
   "cell_type": "markdown",
   "source": [
    "## Sales Trend 2016/2017"
   ],
   "metadata": {
    "collapsed": false
   }
  },
  {
   "cell_type": "code",
   "execution_count": 15,
   "outputs": [],
   "source": [
    "# Imports\n",
    "import pandas as pd\n",
    "import functions as fc\n",
    "import matplotlib.pyplot as plt\n",
    "from itertools import groupby\n",
    "from sklearn.linear_model import LinearRegression\n",
    "\n",
    "# Read input file\n",
    "sales_frame = fc.read_csv(\"data/nyc-rolling-sales1.csv\")\n",
    "\n",
    "# Printing head of the Data Frame\n",
    "#print(sales_frame.head())\n",
    "\n",
    "# Data Types of the Data Frame pre changing\n",
    "#print(sales_frame.dtypes)\n",
    "\n",
    "# Changing format of boroughs to string (from int)\n",
    "sales_frame[\"BOROUGH\"] = sales_frame[\"BOROUGH\"].apply(str)\n",
    "# Changing format of sale price to numeric (from str)\n",
    "sales_frame[\"SALE PRICE\"] = pd.to_numeric(sales_frame[\"SALE PRICE\"], errors=\"coerce\")\n",
    "# Changing format of sale date to datetime (from str)\n",
    "sales_frame[\"SALE DATE\"] = pd.to_datetime(sales_frame[\"SALE DATE\"], errors=\"coerce\")\n",
    "#Changing format of sale date to datetime (from st\n",
    "\n",
    "# Replacing numbers of boroughs with actual name\n",
    "sales_frame[\"BOROUGH\"] = sales_frame[\"BOROUGH\"].replace([\"1\"], \"Manhattan\")\n",
    "sales_frame[\"BOROUGH\"] = sales_frame[\"BOROUGH\"].replace([\"2\"], \"Brooklyn\")\n",
    "sales_frame[\"BOROUGH\"] = sales_frame[\"BOROUGH\"].replace([\"3\"], \"Queens\")\n",
    "sales_frame[\"BOROUGH\"] = sales_frame[\"BOROUGH\"].replace([\"4\"], \"The Bronx\")\n",
    "sales_frame[\"BOROUGH\"] = sales_frame[\"BOROUGH\"].replace([\"5\"], \"Staten Island\")\n",
    "\n",
    "# Printing head of the Data Frame\n",
    "#print(sales_frame.head())\n",
    "\n",
    "# Data Types of the Data Frame post changing\n",
    "#print(sales_frame.dtypes)"
   ],
   "metadata": {
    "collapsed": false,
    "pycharm": {
     "name": "#%%\n"
    }
   }
  },
  {
   "cell_type": "markdown",
   "source": [
    "### Sales Trend (Price)"
   ],
   "metadata": {
    "collapsed": false,
    "pycharm": {
     "name": "#%% md\n"
    }
   }
  },
  {
   "cell_type": "code",
   "execution_count": 16,
   "outputs": [
    {
     "name": "stdout",
     "output_type": "stream",
     "text": [
      "    SALE YEAR  SALE MONTH  SALE PRICE AGGREGATED\n",
      "0        2016           9           7.842562e+09\n",
      "1        2016          10           6.184049e+09\n",
      "2        2016          11           7.084841e+09\n",
      "3        2016          12           1.052582e+10\n",
      "4        2017           1           7.875755e+09\n",
      "5        2017           2           5.490635e+09\n",
      "6        2017           3           7.479973e+09\n",
      "7        2017           4           6.004318e+09\n",
      "8        2017           5           9.870463e+09\n",
      "9        2017           6           8.385461e+09\n",
      "10       2017           7           6.554480e+09\n",
      "11       2017           8           6.037003e+09\n"
     ]
    },
    {
     "data": {
      "text/plain": "<Figure size 432x288 with 1 Axes>",
      "image/png": "[encoded data removed]"
     },
     "metadata": {
      "needs_background": "light"
     },
     "output_type": "display_data"
    }
   ],
   "source": [
    "#Grouping SALE PRICE by SALE DATE (year --> month)\n",
    "sales_frame_sale_date = sales_frame.groupby([sales_frame[\"SALE DATE\"].dt.year.rename(\"SALE YEAR\"), sales_frame[\"SALE DATE\"].dt.month.rename(\"SALE MONTH\")])\n",
    "month_sale_price = sales_frame_sale_date[\"SALE PRICE\"].sum().reset_index()\n",
    "month_sale_price = month_sale_price.rename(columns={\"SALE PRICE\": \"SALE PRICE AGGREGATED\"})\n",
    "#pd.options.display.float_format = '{:.2f}'.format\n",
    "print(month_sale_price)\n",
    "\n",
    "xs = month_sale_price[\"SALE MONTH\"]\n",
    "ys = month_sale_price[\"SALE PRICE AGGREGATED\"]\n",
    "\n",
    "model = LinearRegression()\n",
    "xsl = []\n",
    "for x in xs:\n",
    "    xsl.append([x])\n",
    "model.fit(xsl, ys)\n",
    "\n",
    "predicted = model.predict(xsl)\n",
    "\n",
    "def price_table():\n",
    "    data_table = month_sale_price\n",
    "    return data_table\n",
    "\n",
    "def add_line(ax, xpos, ypos):\n",
    "    line = plt.Line2D([xpos, xpos], [ypos + .1, ypos],\n",
    "                      transform=ax.transAxes, color='black')\n",
    "    line.set_clip_on(False)\n",
    "    ax.add_line(line)\n",
    "\n",
    "def label_len(my_index,level):\n",
    "    labels = my_index.get_level_values(level)\n",
    "    return [(k, sum(1 for i in g)) for k,g in groupby(labels)]\n",
    "\n",
    "def label_group_bar_table(ax, df):\n",
    "    ypos = -.1\n",
    "    scale = 1./df.index.size\n",
    "    for level in range(df.index.nlevels)[::-1]:\n",
    "        pos = 0\n",
    "        for label, rpos in label_len(df.index,level):\n",
    "            lxpos = (pos + .5 * rpos)*scale\n",
    "            ax.text(lxpos, ypos, label, ha='center', transform=ax.transAxes)\n",
    "            add_line(ax, pos*scale, ypos)\n",
    "            pos += rpos\n",
    "        add_line(ax, pos*scale , ypos)\n",
    "        ypos -= .1\n",
    "\n",
    "df = price_table().groupby([\"SALE YEAR\", \"SALE MONTH\"]).sum()\n",
    "fig = plt.figure()\n",
    "ax = fig.add_subplot(111)\n",
    "df.plot(kind='bar',stacked=True,ax=fig.gca())\n",
    "plt.plot(xs, predicted, color=\"orange\", label=\"PRICE PREDICTION\")\n",
    "#Below 3 lines remove default labels\n",
    "labels = ['' for item in ax.get_xticklabels()]\n",
    "ax.set_xticklabels(labels)\n",
    "ax.set_xlabel('')\n",
    "label_group_bar_table(ax, df)\n",
    "fig.subplots_adjust(bottom=.1*df.index.nlevels)\n",
    "plt.title(\"Sale price aggregated per month + prediction\\n(16/17)\")\n",
    "plt.legend(loc=\"center left\", bbox_to_anchor=(1,0.5))\n",
    "plt.savefig(\"data/Sales1617_prediction.jpg\", bbox_inches=\"tight\")\n",
    "plt.show()"
   ],
   "metadata": {
    "collapsed": false,
    "pycharm": {
     "name": "#%%\n"
    }
   }
  },
  {
   "cell_type": "markdown",
   "source": [
    "### Sales Trend (Amount)"
   ],
   "metadata": {
    "collapsed": false
   }
  },
  {
   "cell_type": "code",
   "execution_count": 17,
   "outputs": [
    {
     "name": "stdout",
     "output_type": "stream",
     "text": [
      "    SALE YEAR  SALE MONTH  SALE COUNT\n",
      "0        2016           9        6460\n",
      "1        2016          10        5461\n",
      "2        2016          11        5753\n",
      "3        2016          12        6467\n",
      "4        2017           1        5662\n",
      "5        2017           2        5234\n",
      "6        2017           3        6219\n",
      "7        2017           4        5244\n",
      "8        2017           5        6189\n",
      "9        2017           6        7029\n",
      "10       2017           7        5361\n",
      "11       2017           8        4908\n"
     ]
    },
    {
     "data": {
      "text/plain": "<Figure size 432x288 with 1 Axes>",
      "image/png": "[encoded data removed]"
     },
     "metadata": {
      "needs_background": "light"
     },
     "output_type": "display_data"
    }
   ],
   "source": [
    "# Getting amount of sales per month using already grouped sales frame from above\n",
    "month_sale_count = sales_frame_sale_date[\"SALE PRICE\"].count().reset_index()\n",
    "month_sale_count = month_sale_count.rename(columns={\"SALE PRICE\": \"SALE COUNT\"})\n",
    "#pd.options.display.float_format = '{:.2f}'.format\n",
    "print(month_sale_count)\n",
    "\n",
    "xq = month_sale_count[\"SALE MONTH\"]\n",
    "yq = month_sale_count[\"SALE COUNT\"]\n",
    "\n",
    "model = LinearRegression()\n",
    "xsq = []\n",
    "for q in xq:\n",
    "    xsq.append([q])\n",
    "model.fit(xsq, yq)\n",
    "\n",
    "predicted_count = model.predict(xsq)\n",
    "\n",
    "def count_table():\n",
    "    data_table = month_sale_count\n",
    "    return data_table\n",
    "\n",
    "def add_line(ax, xpos, ypos):\n",
    "    line = plt.Line2D([xpos, xpos], [ypos + .1, ypos],\n",
    "                      transform=ax.transAxes, color='black')\n",
    "    line.set_clip_on(False)\n",
    "    ax.add_line(line)\n",
    "\n",
    "def label_len(my_index,level):\n",
    "    labels = my_index.get_level_values(level)\n",
    "    return [(k, sum(1 for i in g)) for k,g in groupby(labels)]\n",
    "\n",
    "def label_group_bar_table(ax, df):\n",
    "    ypos = -.1\n",
    "    scale = 1./df.index.size\n",
    "    for level in range(df.index.nlevels)[::-1]:\n",
    "        pos = 0\n",
    "        for label, rpos in label_len(df.index,level):\n",
    "            lxpos = (pos + .5 * rpos)*scale\n",
    "            ax.text(lxpos, ypos, label, ha='center', transform=ax.transAxes)\n",
    "            add_line(ax, pos*scale, ypos)\n",
    "            pos += rpos\n",
    "        add_line(ax, pos*scale , ypos)\n",
    "        ypos -= .1\n",
    "\n",
    "df = count_table().groupby([\"SALE YEAR\", \"SALE MONTH\"]).sum()\n",
    "fig = plt.figure()\n",
    "ax = fig.add_subplot(111)\n",
    "df.plot(kind='bar',stacked=True,ax=fig.gca())\n",
    "plt.plot(xq, predicted_count, color=\"orange\", label=\"SALE COUNT PREDICTION\")\n",
    "#Below 3 lines remove default labels\n",
    "labels = ['' for item in ax.get_xticklabels()]\n",
    "ax.set_xticklabels(labels)\n",
    "ax.set_xlabel('')\n",
    "label_group_bar_table(ax, df)\n",
    "fig.subplots_adjust(bottom=.1*df.index.nlevels)\n",
    "plt.title(\"Sale count per month + prediction (16/17)\")\n",
    "plt.legend(loc=\"center left\", bbox_to_anchor=(1,0.5))\n",
    "plt.savefig(\"data/Sales_count1617_prediction.jpg\", bbox_inches=\"tight\")\n",
    "plt.show()\n",
    "\n"
   ],
   "metadata": {
    "collapsed": false,
    "pycharm": {
     "name": "#%%\n"
    }
   }
  }
 ],
 "metadata": {
  "kernelspec": {
   "display_name": "Python 3",
   "language": "python",
   "name": "python3"
  },
  "language_info": {
   "codemirror_mode": {
    "name": "ipython",
    "version": 2
   },
   "file_extension": ".py",
   "mimetype": "text/x-python",
   "name": "python",
   "nbconvert_exporter": "python",
   "pygments_lexer": "ipython2",
   "version": "2.7.6"
  }
 },
 "nbformat": 4,
 "nbformat_minor": 0
}