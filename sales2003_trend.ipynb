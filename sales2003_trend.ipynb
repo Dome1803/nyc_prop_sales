{
 "cells": [
  {
   "cell_type": "markdown",
   "metadata": {
    "collapsed": true,
    "pycharm": {
     "name": "#%% md\n"
    }
   },
   "source": [
    "## Sales Trend 2016/2017"
   ]
  },
  {
   "cell_type": "code",
   "execution_count": 55,
   "outputs": [
    {
     "name": "stderr",
     "output_type": "stream",
     "text": [
      "C:\\Users\\Dome\\Anaconda3\\lib\\site-packages\\IPython\\core\\interactiveshell.py:3249: DtypeWarning: Columns (15) have mixed types. Specify dtype option on import or set low_memory=False.\n",
      "  if (await self.run_code(code, result,  async_=asy)):\n"
     ]
    },
    {
     "name": "stdout",
     "output_type": "stream",
     "text": [
      "   BOROUGH               NEIGHBORHOOD  \\\n",
      "0        1  ALPHABET CITY               \n",
      "1        1  ALPHABET CITY               \n",
      "2        1  ALPHABET CITY               \n",
      "3        1  ALPHABET CITY               \n",
      "4        1  ALPHABET CITY               \n",
      "\n",
      "                        BUILDING CLASS CATEGORY TAX CLASS AT PRESENT  BLOCK  \\\n",
      "0  02  TWO FAMILY HOMES                                            1    375   \n",
      "1  07  RENTALS - WALKUP APARTMENTS                                2A    372   \n",
      "2  07  RENTALS - WALKUP APARTMENTS                                2A    372   \n",
      "3  07  RENTALS - WALKUP APARTMENTS                                2B    378   \n",
      "4  07  RENTALS - WALKUP APARTMENTS                                 2    391   \n",
      "\n",
      "   LOT EASE-MENT BUILDING CLASS AT PRESENT  \\\n",
      "0   32                                  B9   \n",
      "1   31                                  C3   \n",
      "2   31                                  C3   \n",
      "3   33                                  C4   \n",
      "4   12                                  C1   \n",
      "\n",
      "                                       ADDRESS APARTMENT NUMBER  ...  \\\n",
      "0   746 EAST 6 STREET                                            ...   \n",
      "1   316 EAST 3 STREET                                            ...   \n",
      "2   316 EAST 3 STREET                                            ...   \n",
      "3   125 AVENUE D                                                 ...   \n",
      "4   610 EAST 9 STREET                                            ...   \n",
      "\n",
      "   RESIDENTIAL UNITS  COMMERCIAL UNITS  TOTAL UNITS  LAND SQUARE FEET  \\\n",
      "0               2.00              0.00         2.00             2.134   \n",
      "1               4.00              0.00         4.00             5.746   \n",
      "2               4.00              0.00         4.00             5.746   \n",
      "3               6.00              1.00         7.00             2.185   \n",
      "4              24.00              0.00        24.00             2.543   \n",
      "\n",
      "  GROSS SQUARE FEET YEAR BUILT  TAX CLASS AT TIME OF SALE  \\\n",
      "0             3.542       1899                          1   \n",
      "1             2.700       1900                          2   \n",
      "2             2.700       1900                          2   \n",
      "3             5.725       1910                          2   \n",
      "4            11.568       1910                          2   \n",
      "\n",
      "   BUILDING CLASS AT TIME OF SALE  SALE PRICE   SALE DATE  \n",
      "0                             B9   $1.800.000  22.01.2003  \n",
      "1                             C3           $0  18.12.2003  \n",
      "2                             C3           $0  18.12.2003  \n",
      "3                             C4     $426.000  23.10.2003  \n",
      "4                             C1           $0  28.02.2003  \n",
      "\n",
      "[5 rows x 21 columns]\n"
     ]
    }
   ],
   "source": [
    "# Imports\n",
    "import pandas as pd\n",
    "import functions as fc\n",
    "import matplotlib.pyplot as plt\n",
    "from itertools import groupby\n",
    "from sklearn.linear_model import LinearRegression\n",
    "\n",
    "# Read input file\n",
    "sales_frame = fc.read_german_csv(\"data/nyc-rolling-sales_2003.csv\")\n",
    "\n",
    "print(sales_frame.head())\n",
    "#print(sales_frame.dtypes)\n",
    "\n",
    "# Changing format of boroughs to string (from int)\n",
    "sales_frame[\"BOROUGH\"] = sales_frame[\"BOROUGH\"].apply(str)\n",
    "# Replacing the \".\" and the \"$\" in the string and changing format of sale price to numeric (from str)\n",
    "sales_frame[\"SALE PRICE\"] = sales_frame[\"SALE PRICE\"].str.replace(\".\", \"\")\n",
    "sales_frame[\"SALE PRICE\"] = sales_frame[\"SALE PRICE\"].str.replace(\"$\", \"\")\n",
    "sales_frame[\"SALE PRICE\"] = pd.to_numeric(sales_frame[\"SALE PRICE\"], errors=\"coerce\")\n",
    "# Changing format of sale date to datetime (from str)\n",
    "sales_frame[\"SALE DATE\"] = pd.to_datetime(sales_frame[\"SALE DATE\"], errors=\"coerce\")\n",
    "# Changing LSF and GSF to numeric values (from str)\n",
    "sales_frame[\"LAND SQUARE FEET\"] = pd.to_numeric(sales_frame[\"LAND SQUARE FEET\"], errors=\"coerce\")\n",
    "sales_frame[\"GROSS SQUARE FEET\"] = pd.to_numeric(sales_frame[\"GROSS SQUARE FEET\"], errors=\"coerce\")\n",
    "\n",
    "# Replacing numbers of boroughs with actual name\n",
    "sales_frame[\"BOROUGH\"] = sales_frame[\"BOROUGH\"].replace([\"1\"], \"Manhattan\")\n",
    "sales_frame[\"BOROUGH\"] = sales_frame[\"BOROUGH\"].replace([\"2\"], \"Brooklyn\")\n",
    "sales_frame[\"BOROUGH\"] = sales_frame[\"BOROUGH\"].replace([\"3\"], \"Queens\")\n",
    "sales_frame[\"BOROUGH\"] = sales_frame[\"BOROUGH\"].replace([\"4\"], \"The Bronx\")\n",
    "sales_frame[\"BOROUGH\"] = sales_frame[\"BOROUGH\"].replace([\"5\"], \"Staten Island\")\n",
    "\n",
    "#print(sales_frame.dtypes)\n",
    "#print(sales_frame.head())"
   ],
   "metadata": {
    "collapsed": false,
    "pycharm": {
     "name": "#%%\n"
    }
   }
  },
  {
   "cell_type": "markdown",
   "source": [
    "### Sales Trend (Price)"
   ],
   "metadata": {
    "collapsed": false,
    "pycharm": {
     "name": "#%% md\n"
    }
   }
  },
  {
   "cell_type": "code",
   "execution_count": 56,
   "outputs": [
    {
     "name": "stdout",
     "output_type": "stream",
     "text": [
      "    SALE YEAR  SALE MONTH  SALE PRICE AGGREGATED\n",
      "0        2003           1             3355919577\n",
      "1        2003           2             3047715683\n",
      "2        2003           3             3267009567\n",
      "3        2003           4             3161188829\n",
      "4        2003           5             3722952495\n",
      "5        2003           6             3927935760\n",
      "6        2003           7             3802772664\n",
      "7        2003           8             4200360255\n",
      "8        2003           9             4719599866\n",
      "9        2003          10             5151297056\n",
      "10       2003          11             3315023453\n",
      "11       2003          12             4061127301\n"
     ]
    },
    {
     "data": {
      "text/plain": "<Figure size 432x288 with 1 Axes>",
      "image/png": "[encoded data removed]"
     },
     "metadata": {
      "needs_background": "light"
     },
     "output_type": "display_data"
    }
   ],
   "source": [
    "#Grouping SALE PRICE by SALE DATE (year --> month)\n",
    "sales_frame_sale_date = sales_frame.groupby([sales_frame[\"SALE DATE\"].dt.year.rename(\"SALE YEAR\"), sales_frame[\"SALE DATE\"].dt.month.rename(\"SALE MONTH\")])\n",
    "month_sale_price = sales_frame_sale_date[\"SALE PRICE\"].sum().reset_index()\n",
    "month_sale_price = month_sale_price.rename(columns={\"SALE PRICE\": \"SALE PRICE AGGREGATED\"})\n",
    "#month_sale_price = groupedby_sale_price.set_index()\n",
    "#pd.options.display.float_format = '{:.2f}'.format\n",
    "print(month_sale_price)\n",
    "\n",
    "xs = month_sale_price[\"SALE MONTH\"]\n",
    "ys = month_sale_price[\"SALE PRICE AGGREGATED\"]\n",
    "\n",
    "model = LinearRegression()\n",
    "xsl = []\n",
    "for x in xs:\n",
    "    xsl.append([x])\n",
    "model.fit(xsl, ys)\n",
    "\n",
    "predicted = model.predict(xsl)\n",
    "\n",
    "def test_table():\n",
    "    data_table = month_sale_price\n",
    "    return data_table\n",
    "\n",
    "def add_line(ax, xpos, ypos):\n",
    "    line = plt.Line2D([xpos, xpos], [ypos + .1, ypos],\n",
    "                      transform=ax.transAxes, color='black')\n",
    "    line.set_clip_on(False)\n",
    "    ax.add_line(line)\n",
    "\n",
    "def label_len(my_index,level):\n",
    "    labels = my_index.get_level_values(level)\n",
    "    return [(k, sum(1 for i in g)) for k,g in groupby(labels)]\n",
    "\n",
    "def label_group_bar_table(ax, df):\n",
    "    ypos = -.1\n",
    "    scale = 1./df.index.size\n",
    "    for level in range(df.index.nlevels)[::-1]:\n",
    "        pos = 0\n",
    "        for label, rpos in label_len(df.index,level):\n",
    "            lxpos = (pos + .5 * rpos)*scale\n",
    "            ax.text(lxpos, ypos, label, ha='center', transform=ax.transAxes)\n",
    "            add_line(ax, pos*scale, ypos)\n",
    "            pos += rpos\n",
    "        add_line(ax, pos*scale , ypos)\n",
    "        ypos -= .1\n",
    "\n",
    "df = test_table().groupby([\"SALE YEAR\", \"SALE MONTH\"]).sum()\n",
    "fig = plt.figure()\n",
    "ax = fig.add_subplot(111)\n",
    "df.plot(kind='bar',stacked=True,ax=fig.gca())\n",
    "plt.plot(xs, predicted, color=\"orange\", label=\"PRICE PREDICTION\")\n",
    "#Below 3 lines remove default labels\n",
    "labels = ['' for item in ax.get_xticklabels()]\n",
    "ax.set_xticklabels(labels)\n",
    "ax.set_xlabel('')\n",
    "label_group_bar_table(ax, df)\n",
    "fig.subplots_adjust(bottom=.1*df.index.nlevels)\n",
    "plt.title(\"Sale price aggregated per month + prediction\\n(2003)\")\n",
    "plt.legend(loc=\"center left\", bbox_to_anchor=(1,0.5))\n",
    "plt.savefig(\"data/Sales2003_prediction.jpg\", bbox_inches=\"tight\")\n",
    "plt.show()"
   ],
   "metadata": {
    "collapsed": false,
    "pycharm": {
     "name": "#%%\n"
    }
   }
  },
  {
   "cell_type": "markdown",
   "source": [
    "### Sales Trend (Amount)"
   ],
   "metadata": {
    "collapsed": false
   }
  },
  {
   "cell_type": "code",
   "execution_count": 57,
   "outputs": [
    {
     "name": "stdout",
     "output_type": "stream",
     "text": [
      "    SALE YEAR  SALE MONTH  SALE COUNT\n",
      "0        2003           1        9988\n",
      "1        2003           2        8944\n",
      "2        2003           3       10390\n",
      "3        2003           4        8820\n",
      "4        2003           5        9749\n",
      "5        2003           6        9413\n",
      "6        2003           7       10391\n",
      "7        2003           8        9557\n",
      "8        2003           9        9953\n",
      "9        2003          10       11814\n",
      "10       2003          11        9344\n",
      "11       2003          12       10065\n"
     ]
    },
    {
     "data": {
      "text/plain": "<Figure size 432x288 with 1 Axes>",
      "image/png": "[encoded data removed]"
     },
     "metadata": {
      "needs_background": "light"
     },
     "output_type": "display_data"
    }
   ],
   "source": [
    "# Getting amount of sales per month using already grouped sales frame from above\n",
    "month_sale_count = sales_frame_sale_date[\"SALE PRICE\"].count().reset_index()\n",
    "month_sale_count = month_sale_count.rename(columns={\"SALE PRICE\": \"SALE COUNT\"})\n",
    "#pd.options.display.float_format = '{:.2f}'.format\n",
    "print(month_sale_count)\n",
    "\n",
    "xq = month_sale_count[\"SALE MONTH\"]\n",
    "yq = month_sale_count[\"SALE COUNT\"]\n",
    "\n",
    "model = LinearRegression()\n",
    "xsq = []\n",
    "for q in xq:\n",
    "    xsq.append([q])\n",
    "model.fit(xsq, yq)\n",
    "\n",
    "predicted_count = model.predict(xsq)\n",
    "\n",
    "def count_table():\n",
    "    data_table = month_sale_count\n",
    "    return data_table\n",
    "\n",
    "def add_line(ax, xpos, ypos):\n",
    "    line = plt.Line2D([xpos, xpos], [ypos + .1, ypos],\n",
    "                      transform=ax.transAxes, color='black')\n",
    "    line.set_clip_on(False)\n",
    "    ax.add_line(line)\n",
    "\n",
    "def label_len(my_index,level):\n",
    "    labels = my_index.get_level_values(level)\n",
    "    return [(k, sum(1 for i in g)) for k,g in groupby(labels)]\n",
    "\n",
    "def label_group_bar_table(ax, df):\n",
    "    ypos = -.1\n",
    "    scale = 1./df.index.size\n",
    "    for level in range(df.index.nlevels)[::-1]:\n",
    "        pos = 0\n",
    "        for label, rpos in label_len(df.index,level):\n",
    "            lxpos = (pos + .5 * rpos)*scale\n",
    "            ax.text(lxpos, ypos, label, ha='center', transform=ax.transAxes)\n",
    "            add_line(ax, pos*scale, ypos)\n",
    "            pos += rpos\n",
    "        add_line(ax, pos*scale , ypos)\n",
    "        ypos -= .1\n",
    "\n",
    "df = count_table().groupby([\"SALE YEAR\", \"SALE MONTH\"]).sum()\n",
    "fig = plt.figure()\n",
    "ax = fig.add_subplot(111)\n",
    "df.plot(kind='bar',stacked=True,ax=fig.gca())\n",
    "plt.plot(xq, predicted_count, color=\"orange\", label=\"SALE COUNT PREDICTION\")\n",
    "#Below 3 lines remove default labels\n",
    "labels = ['' for item in ax.get_xticklabels()]\n",
    "ax.set_xticklabels(labels)\n",
    "ax.set_xlabel('')\n",
    "label_group_bar_table(ax, df)\n",
    "fig.subplots_adjust(bottom=.1*df.index.nlevels)\n",
    "plt.title(\"Sale count per month + prediction (2003)\")\n",
    "plt.legend(loc=\"center left\", bbox_to_anchor=(1,0.5))\n",
    "plt.savefig(\"data/Sales_count2003_prediction.jpg\", bbox_inches=\"tight\")\n",
    "plt.show()"
   ],
   "metadata": {
    "collapsed": false,
    "pycharm": {
     "name": "#%%\n"
    }
   }
  }
 ],
 "metadata": {
  "kernelspec": {
   "display_name": "Python 3",
   "language": "python",
   "name": "python3"
  },
  "language_info": {
   "codemirror_mode": {
    "name": "ipython",
    "version": 2
   },
   "file_extension": ".py",
   "mimetype": "text/x-python",
   "name": "python",
   "nbconvert_exporter": "python",
   "pygments_lexer": "ipython2",
   "version": "2.7.6"
  }
 },
 "nbformat": 4,
 "nbformat_minor": 0
}