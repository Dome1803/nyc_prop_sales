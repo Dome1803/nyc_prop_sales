{
 "cells": [
  {
   "cell_type": "markdown",
   "source": [
    "## Sales Comparison 16/17 vs. 19/20"
   ],
   "metadata": {
    "collapsed": false
   }
  },
  {
   "cell_type": "code",
   "execution_count": 64,
   "outputs": [
    {
     "name": "stderr",
     "output_type": "stream",
     "text": [
      "C:\\Users\\Dome\\Anaconda3\\lib\\site-packages\\IPython\\core\\interactiveshell.py:3058: DtypeWarning: Columns (15) have mixed types. Specify dtype option on import or set low_memory=False.\n",
      "  interactivity=interactivity, compiler=compiler, result=result)\n"
     ]
    },
    {
     "name": "stdout",
     "output_type": "stream",
     "text": [
      "20000\n",
      "585541.3726852316\n"
     ]
    }
   ],
   "source": [
    "# Imports\n",
    "import pandas as pd\n",
    "import functions as fc\n",
    "import matplotlib.pyplot as plt\n",
    "\n",
    "\n",
    "a = fc.read_csv(\"data/nyc-rolling-sales1.csv\")\n",
    "#print(a.head())\n",
    "a_sample = a.sample(10000)\n",
    "#print(a_sample.dtypes)\n",
    "b = pd.read_csv(\"data/rollingsales_19_20.csv\", sep=\";\")\n",
    "#print(b.head())\n",
    "b_sample = b.sample(10000)\n",
    "#print(b_sample.dtypes)\n",
    "result_frame = pd.concat([a_sample, b_sample], ignore_index=True, sort=False)\n",
    "#print(result_frame.head())\n",
    "#print(result_frame.dtypes)\n",
    "fc.to_csv(\"data/merged_frame.csv\", result_frame)\n",
    "\n",
    "count_sales = len(result_frame)\n",
    "print(count_sales)\n",
    "result_frame[\"SALE PRICE\"] = pd.to_numeric(result_frame[\"SALE PRICE\"], errors=\"coerce\")\n",
    "result_avg = result_frame[\"SALE PRICE\"].mean()\n",
    "print(result_avg)\n",
    "\n"
   ],
   "metadata": {
    "collapsed": false,
    "pycharm": {
     "name": "#%%\n"
    }
   }
  }
 ],
 "metadata": {
  "kernelspec": {
   "display_name": "Python 3",
   "language": "python",
   "name": "python3"
  },
  "language_info": {
   "codemirror_mode": {
    "name": "ipython",
    "version": 2
   },
   "file_extension": ".py",
   "mimetype": "text/x-python",
   "name": "python",
   "nbconvert_exporter": "python",
   "pygments_lexer": "ipython2",
   "version": "2.7.6"
  }
 },
 "nbformat": 4,
 "nbformat_minor": 0
}