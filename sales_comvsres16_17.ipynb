{
 "cells": [
  {
   "cell_type": "markdown",
   "metadata": {
    "collapsed": true,
    "pycharm": {
     "name": "#%% md\n"
    }
   },
   "source": [
    "## Commercial vs. Residential units"
   ]
  },
  {
   "cell_type": "code",
   "execution_count": 16,
   "outputs": [
    {
     "name": "stdout",
     "output_type": "stream",
     "text": [
      "62168\n"
     ]
    }
   ],
   "source": [
    "# Imports\n",
    "import pandas as pd\n",
    "import functions as fc\n",
    "import matplotlib.pyplot as plt\n",
    "import numpy as np\n",
    "\n",
    "# Read input file\n",
    "sales_frame = fc.read_csv(\"data/nyc-rolling-sales2.csv\")\n",
    "\n",
    "# Printing head of the Data Frame\n",
    "#print(sales_frame.head())\n",
    "\n",
    "# Data Types of the Data Frame pre changing\n",
    "#print(sales_frame.dtypes)\n",
    "\n",
    "# Changing format of boroughs to string (from int)\n",
    "sales_frame[\"BOROUGH\"] = sales_frame[\"BOROUGH\"].apply(str)\n",
    "# Changing format of sale price to numeric (from str)\n",
    "sales_frame[\"SALE PRICE\"] = pd.to_numeric(sales_frame[\"SALE PRICE\"], errors=\"coerce\")\n",
    "# Changing format of sale date to datetime (from str)\n",
    "sales_frame[\"SALE DATE\"] = pd.to_datetime(sales_frame[\"SALE DATE\"], errors=\"coerce\")\n",
    "#Changing format of sale date to datetime (from st\n",
    "\n",
    "# Replacing numbers of boroughs with actual name\n",
    "sales_frame[\"BOROUGH\"] = sales_frame[\"BOROUGH\"].replace([\"1\"], \"Manhattan\")\n",
    "sales_frame[\"BOROUGH\"] = sales_frame[\"BOROUGH\"].replace([\"2\"], \"Brooklyn\")\n",
    "sales_frame[\"BOROUGH\"] = sales_frame[\"BOROUGH\"].replace([\"3\"], \"Queens\")\n",
    "sales_frame[\"BOROUGH\"] = sales_frame[\"BOROUGH\"].replace([\"4\"], \"The Bronx\")\n",
    "sales_frame[\"BOROUGH\"] = sales_frame[\"BOROUGH\"].replace([\"5\"], \"Staten Island\")\n",
    "\n",
    "# Printing head of the Data Frame\n",
    "#print(sales_frame.head())\n",
    "\n",
    "# Data Types of the Data Frame post changing\n",
    "#print(sales_frame.dtypes)\n",
    "\n",
    "# excluding sales that have no specifications of both \"RESIDENTIAL SALES\" AND \"COMMERCIAL SALES\"\n",
    "units_not_both_zero = sales_frame[(sales_frame[\"RESIDENTIAL UNITS\"] !=0) | (sales_frame[\"COMMERCIAL UNITS\"] != 0)]\n",
    "print(len(units_not_both_zero))\n",
    "\n",
    "#RESIDENTIAL UND COMMERCIAL MUSS TOTAL ERGEBEN"
   ],
   "metadata": {
    "collapsed": false,
    "pycharm": {
     "name": "#%%\n"
    }
   }
  },
  {
   "cell_type": "markdown",
   "source": [
    "### Residential vs. Commercial by Borough"
   ],
   "metadata": {
    "collapsed": false
   }
  },
  {
   "cell_type": "code",
   "execution_count": 17,
   "outputs": [
    {
     "name": "stdout",
     "output_type": "stream",
     "text": [
      "               RESIDENTIAL UNITS  COMMERCIAL UNITS  TOTAL UNITS\n",
      "BOROUGH                                                        \n",
      "Queens                     48951              3558        52490\n",
      "The Bronx                  45491              5517        50995\n",
      "Manhattan                  42241              5486        47719\n",
      "Brooklyn                   24225              1134        25355\n",
      "Staten Island              10324               670        10987\n"
     ]
    },
    {
     "data": {
      "text/plain": "<Figure size 432x288 with 1 Axes>",
      "image/png": "[encoded data removed]"
     },
     "metadata": {
      "needs_background": "light"
     },
     "output_type": "display_data"
    }
   ],
   "source": [
    "# grouping dataframe by borough and sum of units\n",
    "units_borough = units_not_both_zero.groupby([\"BOROUGH\"])\n",
    "units_by_borough = units_borough[\"RESIDENTIAL UNITS\", \"COMMERCIAL UNITS\", \"TOTAL UNITS\"].sum().reset_index()\n",
    "units_by_borough = units_by_borough.sort_values([\"TOTAL UNITS\"], ascending= [False])\n",
    "units_by_borough.set_index(\"BOROUGH\", drop=True, inplace=True)\n",
    "print(units_by_borough)\n",
    "\n",
    "# plotting stacked dataframe commercial/residential units\n",
    "units_by_borough[['RESIDENTIAL UNITS','COMMERCIAL UNITS']].plot.bar(stacked=True)\n",
    "plt.ylabel(\"Units\")\n",
    "plt.title(\"Units sold per Borough\")\n",
    "plt.savefig(\"data/Units sold per Borough.jpg\", bbox_inches=\"tight\")\n",
    "plt.show()"
   ],
   "metadata": {
    "collapsed": false,
    "pycharm": {
     "name": "#%%\n"
    }
   }
  },
  {
   "cell_type": "markdown",
   "source": [
    "### Top Total Units"
   ],
   "metadata": {
    "collapsed": false,
    "pycharm": {
     "name": "#%% md\n"
    }
   }
  },
  {
   "cell_type": "code",
   "execution_count": 18,
   "outputs": [
    {
     "name": "stdout",
     "output_type": "stream",
     "text": [
      "     BOROUGH  VALUE COUNTS\n",
      "0  Manhattan            50\n",
      "1  The Bronx            25\n",
      "2   Brooklyn            13\n",
      "3     Queens            12\n",
      "\n",
      "TOTAL UNITS, Durchschnitt: 3.02\n"
     ]
    }
   ],
   "source": [
    "# determining max, mean total units\n",
    "total_max = units_not_both_zero.nlargest(100, \"TOTAL UNITS\")\n",
    "\n",
    "# grouping dataframe of top 50 total unit values by borough\n",
    "total_max_borough = total_max.groupby([\"BOROUGH\"])\n",
    "total_max_by_borough = total_max_borough[\"TOTAL UNITS\"].count().reset_index(name=\"VALUE COUNTS\")\n",
    "total_max_by_borough = total_max_by_borough.sort_values([\"VALUE COUNTS\"], ascending= [False])\n",
    "total_max_by_borough = total_max_by_borough.reset_index(drop=True)\n",
    "print(total_max_by_borough)\n",
    "\n",
    "total_mean = units_not_both_zero[\"TOTAL UNITS\"].mean()\n",
    "print(\"\\nTOTAL UNITS, Durchschnitt:\", round(total_mean, 2))"
   ],
   "metadata": {
    "collapsed": false,
    "pycharm": {
     "name": "#%%\n"
    }
   }
  },
  {
   "cell_type": "markdown",
   "source": [
    "### Top Residential Units"
   ],
   "metadata": {
    "collapsed": false
   }
  },
  {
   "cell_type": "code",
   "execution_count": 19,
   "outputs": [
    {
     "name": "stdout",
     "output_type": "stream",
     "text": [
      "         BOROUGH  VALUE COUNTS\n",
      "0      Manhattan            46\n",
      "1      The Bronx            24\n",
      "2       Brooklyn            16\n",
      "3         Queens            13\n",
      "4  Staten Island             1\n",
      "\n",
      "RESIDENTIAL UNITS, Average: 2.75\n"
     ]
    }
   ],
   "source": [
    "# determining max, mean residential units\n",
    "res_max = units_not_both_zero.nlargest(100, \"RESIDENTIAL UNITS\")\n",
    "\n",
    "# grouping dataframe of top 50 residential unit values by borough\n",
    "res_max_borough = res_max.groupby([\"BOROUGH\"])\n",
    "res_max_by_borough = res_max_borough[\"RESIDENTIAL UNITS\"].count().reset_index(name=\"VALUE COUNTS\")\n",
    "res_max_by_borough = res_max_by_borough.sort_values([\"VALUE COUNTS\"], ascending= [False])\n",
    "res_max_by_borough = res_max_by_borough.reset_index(drop=True)\n",
    "print(res_max_by_borough)\n",
    "\n",
    "res_mean = units_not_both_zero[\"RESIDENTIAL UNITS\"].mean()\n",
    "print(\"\\nRESIDENTIAL UNITS, Average:\", round(res_mean, 2))"
   ],
   "metadata": {
    "collapsed": false,
    "pycharm": {
     "name": "#%%\n"
    }
   }
  },
  {
   "cell_type": "markdown",
   "source": [
    "### Top Commercial Units"
   ],
   "metadata": {
    "collapsed": false
   }
  },
  {
   "cell_type": "code",
   "execution_count": 20,
   "outputs": [
    {
     "name": "stdout",
     "output_type": "stream",
     "text": [
      "         BOROUGH  VALUE COUNTS\n",
      "0      Manhattan            56\n",
      "1      The Bronx            21\n",
      "2         Queens            12\n",
      "3       Brooklyn             7\n",
      "4  Staten Island             4\n",
      "\n",
      "COMMERCIAL UNITS, Average: 0.26\n"
     ]
    }
   ],
   "source": [
    "# determining max, mean commercial units\n",
    "com_max = units_not_both_zero.nlargest(100, \"COMMERCIAL UNITS\")\n",
    "\n",
    "# grouping dataframe of top 50 commercial unit values by borough\n",
    "com_max_borough = com_max.groupby([\"BOROUGH\"])\n",
    "com_max_by_borough = com_max_borough[\"COMMERCIAL UNITS\"].count().reset_index(name=\"VALUE COUNTS\")\n",
    "com_max_by_borough = com_max_by_borough.sort_values([\"VALUE COUNTS\"], ascending= [False])\n",
    "com_max_by_borough = com_max_by_borough.reset_index(drop=True)\n",
    "print(com_max_by_borough)\n",
    "\n",
    "com_mean = units_not_both_zero[\"COMMERCIAL UNITS\"].mean()\n",
    "print(\"\\nCOMMERCIAL UNITS, Average:\", round(com_mean, 2))"
   ],
   "metadata": {
    "collapsed": false,
    "pycharm": {
     "name": "#%%\n"
    }
   }
  }
 ],
 "metadata": {
  "kernelspec": {
   "display_name": "Python 3",
   "language": "python",
   "name": "python3"
  },
  "language_info": {
   "codemirror_mode": {
    "name": "ipython",
    "version": 2
   },
   "file_extension": ".py",
   "mimetype": "text/x-python",
   "name": "python",
   "nbconvert_exporter": "python",
   "pygments_lexer": "ipython2",
   "version": "2.7.6"
  }
 },
 "nbformat": 4,
 "nbformat_minor": 0
}