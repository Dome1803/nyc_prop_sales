{
 "cells": [
  {
   "cell_type": "markdown",
   "metadata": {
    "collapsed": true,
    "pycharm": {
     "name": "#%% md\n"
    }
   },
   "source": [
    "## Land Square Meter vs. Gross Square Meter"
   ]
  },
  {
   "cell_type": "code",
   "execution_count": 1,
   "outputs": [],
   "source": [
    "# Imports\n",
    "import functions as fc\n",
    "import matplotlib.pyplot as plt\n",
    "\n",
    "# Read input file\n",
    "sales_frame = fc.read_csv(\"data/nyc-rolling-sales2.csv\")\n",
    "\n",
    "# Printing head of the Data Frame\n",
    "#print(sales_frame.head())\n",
    "\n",
    "# Data Types of the Data Frame post changing\n",
    "#print(sales_frame.dtypes)\n",
    "\n",
    "# determining how many sales have no information about the size of the property\n",
    "land_zero = sales_frame[sales_frame[\"LAND SQUARE FEET\"] == 0]\n",
    "#print(len(land_zero))\n",
    "gross_zero = sales_frame[sales_frame[\"GROSS SQUARE FEET\"] == 0]\n",
    "#print(len(gross_zero))\n",
    "\n",
    "# creating new dataframe without zero values in both columns and saving it\n",
    "both_not_zero = sales_frame[(sales_frame[\"LAND SQUARE FEET\"] > 0) & (sales_frame[\"GROSS SQUARE FEET\"] >= 0)]\n",
    "#print(len(both_not_zero))\n",
    "fc.to_csv(\"data/nyc-rolling-sales_ft_adj.csv\", both_not_zero)\n",
    "#print(both_not_zero)"
   ],
   "metadata": {
    "collapsed": false,
    "pycharm": {
     "name": "#%%\n"
    }
   }
  },
  {
   "cell_type": "markdown",
   "source": [
    "### Top Gross Square Feet"
   ],
   "metadata": {
    "collapsed": false
   }
  },
  {
   "cell_type": "code",
   "execution_count": 2,
   "outputs": [
    {
     "name": "stdout",
     "output_type": "stream",
     "text": [
      "39029\n",
      "The biggest property sold regarding its gross value is 348438.74 square meter.\n",
      "         BOROUGH  VALUE COUNTS\n",
      "0      Manhattan            50\n",
      "1      The Bronx            18\n",
      "2       Brooklyn            15\n",
      "3         Queens            13\n",
      "4  Staten Island             4\n",
      "This indicates that over 50% of the top 100 properties by 'GROSS SQUARE METER' are located in Manhattan (50)\n"
     ]
    },
    {
     "data": {
      "text/plain": "<Figure size 432x288 with 1 Axes>",
      "image/png": "[encoded data removed]"
     },
     "metadata": {
      "needs_background": "light"
     },
     "output_type": "display_data"
    }
   ],
   "source": [
    "# gross square feet == 0\n",
    "gross_zero = sales_frame[sales_frame[\"GROSS SQUARE FEET\"] == 0]\n",
    "print(len(gross_zero))\n",
    "\n",
    "# determining max value for gsf\n",
    "gross_max = sales_frame[\"GROSS SQUARE FEET\"].max()\n",
    "print(\"The biggest property sold regarding its gross value is \", round(gross_max, 2), \" square meter.\", sep=\"\")\n",
    "#print(sales_frame[sales_frame[\"GROSS SQUARE FEET\"] == sales_frame[\"GROSS SQUARE FEET\"].max()])\n",
    "\n",
    "# getting dataframe of top 50 gsf values\n",
    "gross_square_max = sales_frame.nlargest(100, \"GROSS SQUARE FEET\")\n",
    "\n",
    "# grouping dataframe of top 50 gsf values by borough\n",
    "gross_max_borough = gross_square_max.groupby([\"BOROUGH\"])\n",
    "gross_max_by_borough = gross_max_borough[\"GROSS SQUARE FEET\"].count().reset_index(name=\"VALUE COUNTS\")\n",
    "gross_max_by_borough = gross_max_by_borough.sort_values([\"VALUE COUNTS\"], ascending= [False])\n",
    "gross_max_by_borough = gross_max_by_borough.reset_index(drop=True)\n",
    "print(gross_max_by_borough)\n",
    "print(\"This indicates that over 50% of the top 100 properties by 'GROSS SQUARE METER' are located in \", gross_max_by_borough[\"BOROUGH\"].iloc[0], \" (\", gross_max_by_borough[\"VALUE COUNTS\"].max(), \")\", sep=\"\")\n",
    "\n",
    "# plotting biggest properties by gsf values\n",
    "xs = gross_max_by_borough[\"BOROUGH\"]\n",
    "ys = gross_max_by_borough[\"VALUE COUNTS\"]\n",
    "\n",
    "plt.bar(xs, ys)\n",
    "plt.title(\"100 biggest properties by GSF by borough\")\n",
    "plt.savefig(\"data/100 biggest properties by GSF by borough.jpg\", bbox_inches=\"tight\")\n",
    "plt.show()"
   ],
   "metadata": {
    "collapsed": false,
    "pycharm": {
     "name": "#%%\n"
    }
   }
  },
  {
   "cell_type": "markdown",
   "source": [
    "### Top Land Square Meter"
   ],
   "metadata": {
    "collapsed": false
   }
  },
  {
   "cell_type": "code",
   "execution_count": 3,
   "outputs": [
    {
     "name": "stdout",
     "output_type": "stream",
     "text": [
      "36578\n",
      "The biggest property sold regarding its land value is 395053.94 square meter.\n",
      "         BOROUGH  VALUE COUNTS\n",
      "0  Staten Island            36\n",
      "1       Brooklyn            24\n",
      "2         Queens            20\n",
      "3      The Bronx            14\n",
      "4      Manhattan             6\n",
      "This, along with the GSF result, indicates that Manhattan has rather small properties measured by land area but those properties are built tall to compensate for that.\n",
      "The mean value for the size of the properties is 444.68m2 for the buildings placed on the property and 445.02m2 for the land area of the property.\n"
     ]
    },
    {
     "data": {
      "text/plain": "<Figure size 432x288 with 1 Axes>",
      "image/png": "[encoded data removed]"
     },
     "metadata": {
      "needs_background": "light"
     },
     "output_type": "display_data"
    }
   ],
   "source": [
    "# land square feet == 0\n",
    "land_zero = sales_frame[sales_frame[\"LAND SQUARE FEET\"] == 0]\n",
    "print(len(land_zero))\n",
    "\n",
    "# determining max value for lsf\n",
    "land_max = sales_frame[\"LAND SQUARE FEET\"].max()\n",
    "print(\"The biggest property sold regarding its land value is \", round(land_max, 2), \" square meter.\", sep=\"\")\n",
    "#print(sales_frame[sales_frame[\"LAND SQUARE FEET\"] == sales_frame[\"LAND SQUARE FEET\"].max()])\n",
    "\n",
    "# getting dataframe of top 100 lsf values\n",
    "land_square_max = sales_frame.nlargest(100, \"LAND SQUARE FEET\")\n",
    "\n",
    "# grouping dataframe of top 100 lsf values by borough\n",
    "land_max_borough = land_square_max.groupby([\"BOROUGH\"])\n",
    "land_max_by_borough = land_max_borough[\"GROSS SQUARE FEET\"].count().reset_index(name=\"VALUE COUNTS\")\n",
    "land_max_by_borough = land_max_by_borough.sort_values([\"VALUE COUNTS\"], ascending= [False])\n",
    "land_max_by_borough = land_max_by_borough.reset_index(drop=True)\n",
    "print(land_max_by_borough)\n",
    "print(\"This, along with the GSF result, indicates that \", land_max_by_borough[\"BOROUGH\"].iloc[4], \" has rather small properties measured by land area but those properties are built tall to compensate for that.\", sep=\"\")\n",
    "\n",
    "# plotting biggest properties by gsf values\n",
    "xs = land_max_by_borough[\"BOROUGH\"]\n",
    "ys = land_max_by_borough[\"VALUE COUNTS\"]\n",
    "\n",
    "plt.bar(xs, ys)\n",
    "plt.title(\"100 biggest properties by LSF by borough\")\n",
    "plt.savefig(\"data/100 biggest properties by LSF by borough.jpg\", bbox_inches=\"tight\")\n",
    "plt.show()\n",
    "\n",
    "# determining mean values for gsf and lsf (with dataframe without zeros in both columns)\n",
    "land_mean = both_not_zero[\"LAND SQUARE FEET\"].mean()\n",
    "gross_mean = both_not_zero[\"GROSS SQUARE FEET\"].mean()\n",
    "\n",
    "print(\"The mean value for the size of the properties is \", round(gross_mean, 2), \"m2 for the buildings placed on the property and \", round(land_mean, 2), \"m2 for the land area of the property.\", sep=\"\")\n"
   ],
   "metadata": {
    "collapsed": false,
    "pycharm": {
     "name": "#%%\n"
    }
   }
  }
 ],
 "metadata": {
  "kernelspec": {
   "display_name": "Python 3",
   "language": "python",
   "name": "python3"
  },
  "language_info": {
   "codemirror_mode": {
    "name": "ipython",
    "version": 2
   },
   "file_extension": ".py",
   "mimetype": "text/x-python",
   "name": "python",
   "nbconvert_exporter": "python",
   "pygments_lexer": "ipython2",
   "version": "2.7.6"
  }
 },
 "nbformat": 4,
 "nbformat_minor": 0
}