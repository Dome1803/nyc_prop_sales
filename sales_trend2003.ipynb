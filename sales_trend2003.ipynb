{
 "cells": [
  {
   "cell_type": "markdown",
   "metadata": {
    "collapsed": true,
    "pycharm": {
     "name": "#%% md\n"
    }
   },
   "source": [
    "## Sales Trend 2016/2017"
   ]
  },
  {
   "cell_type": "code",
   "execution_count": 87,
   "outputs": [
    {
     "name": "stdout",
     "output_type": "stream",
     "text": [
      "     BOROUGH               NEIGHBORHOOD  \\\n",
      "0  Manhattan  ALPHABET CITY               \n",
      "1  Manhattan  ALPHABET CITY               \n",
      "2  Manhattan  ALPHABET CITY               \n",
      "3  Manhattan  ALPHABET CITY               \n",
      "4  Manhattan  ALPHABET CITY               \n",
      "\n",
      "                        BUILDING CLASS CATEGORY TAX CLASS AT PRESENT  BLOCK  \\\n",
      "0  02  TWO FAMILY HOMES                                            1    375   \n",
      "1  07  RENTALS - WALKUP APARTMENTS                                2B    378   \n",
      "2  07  RENTALS - WALKUP APARTMENTS                                2B    393   \n",
      "3  07  RENTALS - WALKUP APARTMENTS                                2B    393   \n",
      "4  07  RENTALS - WALKUP APARTMENTS                                2B    393   \n",
      "\n",
      "   LOT EASE-MENT BUILDING CLASS AT PRESENT  \\\n",
      "0   32                                  B9   \n",
      "1   33                                  C4   \n",
      "2   36                                  C7   \n",
      "3   37                                  C7   \n",
      "4   38                                  C7   \n",
      "\n",
      "                                       ADDRESS APARTMENT NUMBER  ...  \\\n",
      "0   746 EAST 6 STREET                                            ...   \n",
      "1   125 AVENUE D                                                 ...   \n",
      "2   165 AVENUE C                                                 ...   \n",
      "3   165 AVENUE C                                                 ...   \n",
      "4   165 AVENUE C                                                 ...   \n",
      "\n",
      "   RESIDENTIAL UNITS  COMMERCIAL UNITS  TOTAL UNITS  LAND SQUARE FEET  \\\n",
      "0               2.00              0.00         2.00              2.13   \n",
      "1               6.00              1.00         7.00              2.19   \n",
      "2               8.00              2.00        10.00              1.91   \n",
      "3               8.00              2.00        10.00              1.92   \n",
      "4               8.00              2.00        10.00              1.92   \n",
      "\n",
      "   GROSS SQUARE FEET  YEAR BUILT  TAX CLASS AT TIME OF SALE  \\\n",
      "0               3.54        1899                          1   \n",
      "1               5.72        1910                          2   \n",
      "2               7.44        1920                          2   \n",
      "3               7.49        1920                          2   \n",
      "4               7.49        1920                          2   \n",
      "\n",
      "   BUILDING CLASS AT TIME OF SALE SALE PRICE   SALE DATE  \n",
      "0                             B9     1800000  2003-01-22  \n",
      "1                             C4      426000  2003-10-23  \n",
      "2                             C7           3  2003-06-16  \n",
      "3                             C7           3  2003-06-16  \n",
      "4                             C7           3  2003-06-16  \n",
      "\n",
      "[5 rows x 21 columns]\n"
     ]
    }
   ],
   "source": [
    "# Imports\n",
    "import pandas as pd\n",
    "import functions as fc\n",
    "import matplotlib.pyplot as plt\n",
    "from itertools import groupby\n",
    "from sklearn.linear_model import LinearRegression\n",
    "\n",
    "# Read input file\n",
    "sales_frame = fc.read_csv(\"data/nyc-rolling-sales_2003adj.csv\")\n",
    "\n",
    "print(sales_frame.head())\n",
    "#print(sales_frame.dtypes)\n",
    "\n",
    "# Changing format of boroughs to string (from int)\n",
    "sales_frame[\"BOROUGH\"] = sales_frame[\"BOROUGH\"].apply(str)\n",
    "# Changing format of sale price to numeric (from str)\n",
    "sales_frame[\"SALE PRICE\"] = pd.to_numeric(sales_frame[\"SALE PRICE\"], errors=\"coerce\")\n",
    "# Changing format of sale date to datetime (from str)\n",
    "sales_frame[\"SALE DATE\"] = pd.to_datetime(sales_frame[\"SALE DATE\"], errors=\"coerce\")\n",
    "# Changing LSF and GSF to numeric values (from str)\n",
    "sales_frame[\"LAND SQUARE FEET\"] = pd.to_numeric(sales_frame[\"LAND SQUARE FEET\"], errors=\"coerce\")\n",
    "sales_frame[\"GROSS SQUARE FEET\"] = pd.to_numeric(sales_frame[\"GROSS SQUARE FEET\"], errors=\"coerce\")\n",
    "\n",
    "# Replacing numbers of boroughs with actual name\n",
    "sales_frame[\"BOROUGH\"] = sales_frame[\"BOROUGH\"].replace([\"1\"], \"Manhattan\")\n",
    "sales_frame[\"BOROUGH\"] = sales_frame[\"BOROUGH\"].replace([\"2\"], \"Brooklyn\")\n",
    "sales_frame[\"BOROUGH\"] = sales_frame[\"BOROUGH\"].replace([\"3\"], \"Queens\")\n",
    "sales_frame[\"BOROUGH\"] = sales_frame[\"BOROUGH\"].replace([\"4\"], \"The Bronx\")\n",
    "sales_frame[\"BOROUGH\"] = sales_frame[\"BOROUGH\"].replace([\"5\"], \"Staten Island\")\n",
    "\n",
    "#print(sales_frame.dtypes)\n",
    "#print(sales_frame.head())"
   ],
   "metadata": {
    "collapsed": false,
    "pycharm": {
     "name": "#%%\n"
    }
   }
  },
  {
   "cell_type": "markdown",
   "source": [
    "### Sales Trend (Price)"
   ],
   "metadata": {
    "collapsed": false,
    "pycharm": {
     "name": "#%% md\n"
    }
   }
  },
  {
   "cell_type": "code",
   "execution_count": 88,
   "outputs": [
    {
     "name": "stdout",
     "output_type": "stream",
     "text": [
      "    SALE YEAR  SALE MONTH  SALE PRICE AGGREGATED\n",
      "0        2003           1             3355919577\n",
      "1        2003           2             3047715683\n",
      "2        2003           3             3267009567\n",
      "3        2003           4             3161188829\n",
      "4        2003           5             3722952495\n",
      "5        2003           6             3927935760\n",
      "6        2003           7             3802772664\n",
      "7        2003           8             4200360255\n",
      "8        2003           9             4719599866\n",
      "9        2003          10             5151297056\n",
      "10       2003          11             3315023453\n",
      "11       2003          12             4061127301\n"
     ]
    },
    {
     "data": {
      "text/plain": "<Figure size 432x288 with 1 Axes>",
      "image/png": "[encoded data removed]"
     },
     "metadata": {
      "needs_background": "light"
     },
     "output_type": "display_data"
    }
   ],
   "source": [
    "#Grouping SALE PRICE by SALE DATE (year --> month)\n",
    "sales_frame_sale_date = sales_frame.groupby([sales_frame[\"SALE DATE\"].dt.year.rename(\"SALE YEAR\"), sales_frame[\"SALE DATE\"].dt.month.rename(\"SALE MONTH\")])\n",
    "month_sale_price = sales_frame_sale_date[\"SALE PRICE\"].sum().reset_index()\n",
    "month_sale_price = month_sale_price.rename(columns={\"SALE PRICE\": \"SALE PRICE AGGREGATED\"})\n",
    "#month_sale_price = groupedby_sale_price.set_index()\n",
    "#pd.options.display.float_format = '{:.2f}'.format\n",
    "print(month_sale_price)\n",
    "\n",
    "xs = month_sale_price[\"SALE MONTH\"]\n",
    "ys = month_sale_price[\"SALE PRICE AGGREGATED\"]\n",
    "\n",
    "model = LinearRegression()\n",
    "xsl = []\n",
    "for x in xs:\n",
    "    xsl.append([x])\n",
    "model.fit(xsl, ys)\n",
    "\n",
    "predicted = model.predict(xsl)\n",
    "\n",
    "def test_table():\n",
    "    data_table = month_sale_price\n",
    "    return data_table\n",
    "\n",
    "def add_line(ax, xpos, ypos):\n",
    "    line = plt.Line2D([xpos, xpos], [ypos + .1, ypos],\n",
    "                      transform=ax.transAxes, color='black')\n",
    "    line.set_clip_on(False)\n",
    "    ax.add_line(line)\n",
    "\n",
    "def label_len(my_index,level):\n",
    "    labels = my_index.get_level_values(level)\n",
    "    return [(k, sum(1 for i in g)) for k,g in groupby(labels)]\n",
    "\n",
    "def label_group_bar_table(ax, df):\n",
    "    ypos = -.1\n",
    "    scale = 1./df.index.size\n",
    "    for level in range(df.index.nlevels)[::-1]:\n",
    "        pos = 0\n",
    "        for label, rpos in label_len(df.index,level):\n",
    "            lxpos = (pos + .5 * rpos)*scale\n",
    "            ax.text(lxpos, ypos, label, ha='center', transform=ax.transAxes)\n",
    "            add_line(ax, pos*scale, ypos)\n",
    "            pos += rpos\n",
    "        add_line(ax, pos*scale , ypos)\n",
    "        ypos -= .1\n",
    "\n",
    "df = test_table().groupby([\"SALE YEAR\", \"SALE MONTH\"]).sum()\n",
    "fig = plt.figure()\n",
    "ax = fig.add_subplot(111)\n",
    "df.plot(kind='bar',stacked=True,ax=fig.gca())\n",
    "plt.plot(xs, predicted, color=\"orange\", label=\"PRICE PREDICTION\")\n",
    "#Below 3 lines remove default labels\n",
    "labels = ['' for item in ax.get_xticklabels()]\n",
    "ax.set_xticklabels(labels)\n",
    "ax.set_xlabel('')\n",
    "label_group_bar_table(ax, df)\n",
    "fig.subplots_adjust(bottom=.1*df.index.nlevels)\n",
    "plt.title(\"Sale price aggregated per month + prediction\\n(2003)\")\n",
    "plt.legend(loc=\"center left\", bbox_to_anchor=(1,0.5))\n",
    "plt.savefig(\"data/Sales2003_prediction.jpg\", bbox_inches=\"tight\")\n",
    "plt.show()"
   ],
   "metadata": {
    "collapsed": false,
    "pycharm": {
     "name": "#%%\n"
    }
   }
  },
  {
   "cell_type": "markdown",
   "source": [
    "### Sales Trend (Amount)"
   ],
   "metadata": {
    "collapsed": false
   }
  },
  {
   "cell_type": "code",
   "execution_count": 89,
   "outputs": [
    {
     "name": "stdout",
     "output_type": "stream",
     "text": [
      "    SALE YEAR  SALE MONTH  SALE COUNT\n",
      "0        2003           1        6450\n",
      "1        2003           2        6227\n",
      "2        2003           3        6965\n",
      "3        2003           4        5925\n",
      "4        2003           5        6750\n",
      "5        2003           6        6377\n",
      "6        2003           7        7380\n",
      "7        2003           8        6650\n",
      "8        2003           9        6939\n",
      "9        2003          10        8273\n",
      "10       2003          11        6458\n",
      "11       2003          12        6848\n"
     ]
    },
    {
     "data": {
      "text/plain": "<Figure size 432x288 with 1 Axes>",
      "image/png": "[encoded data removed]"
     },
     "metadata": {
      "needs_background": "light"
     },
     "output_type": "display_data"
    }
   ],
   "source": [
    "# Getting amount of sales per month using already grouped sales frame from above\n",
    "month_sale_count = sales_frame_sale_date[\"SALE PRICE\"].count().reset_index()\n",
    "month_sale_count = month_sale_count.rename(columns={\"SALE PRICE\": \"SALE COUNT\"})\n",
    "#pd.options.display.float_format = '{:.2f}'.format\n",
    "print(month_sale_count)\n",
    "\n",
    "xq = month_sale_count[\"SALE MONTH\"]\n",
    "yq = month_sale_count[\"SALE COUNT\"]\n",
    "\n",
    "model = LinearRegression()\n",
    "xsq = []\n",
    "for q in xq:\n",
    "    xsq.append([q])\n",
    "model.fit(xsq, yq)\n",
    "\n",
    "predicted_count = model.predict(xsq)\n",
    "\n",
    "def count_table():\n",
    "    data_table = month_sale_count\n",
    "    return data_table\n",
    "\n",
    "def add_line(ax, xpos, ypos):\n",
    "    line = plt.Line2D([xpos, xpos], [ypos + .1, ypos],\n",
    "                      transform=ax.transAxes, color='black')\n",
    "    line.set_clip_on(False)\n",
    "    ax.add_line(line)\n",
    "\n",
    "def label_len(my_index,level):\n",
    "    labels = my_index.get_level_values(level)\n",
    "    return [(k, sum(1 for i in g)) for k,g in groupby(labels)]\n",
    "\n",
    "def label_group_bar_table(ax, df):\n",
    "    ypos = -.1\n",
    "    scale = 1./df.index.size\n",
    "    for level in range(df.index.nlevels)[::-1]:\n",
    "        pos = 0\n",
    "        for label, rpos in label_len(df.index,level):\n",
    "            lxpos = (pos + .5 * rpos)*scale\n",
    "            ax.text(lxpos, ypos, label, ha='center', transform=ax.transAxes)\n",
    "            add_line(ax, pos*scale, ypos)\n",
    "            pos += rpos\n",
    "        add_line(ax, pos*scale , ypos)\n",
    "        ypos -= .1\n",
    "\n",
    "df = count_table().groupby([\"SALE YEAR\", \"SALE MONTH\"]).sum()\n",
    "fig = plt.figure()\n",
    "ax = fig.add_subplot(111)\n",
    "df.plot(kind='bar',stacked=True,ax=fig.gca())\n",
    "plt.plot(xq, predicted_count, color=\"orange\", label=\"SALE COUNT PREDICTION\")\n",
    "#Below 3 lines remove default labels\n",
    "labels = ['' for item in ax.get_xticklabels()]\n",
    "ax.set_xticklabels(labels)\n",
    "ax.set_xlabel('')\n",
    "label_group_bar_table(ax, df)\n",
    "fig.subplots_adjust(bottom=.1*df.index.nlevels)\n",
    "plt.title(\"Sale count per month + prediction (2003)\")\n",
    "plt.legend(loc=\"center left\", bbox_to_anchor=(1,0.5))\n",
    "plt.savefig(\"data/Sales_count2003_prediction.jpg\", bbox_inches=\"tight\")\n",
    "plt.show()"
   ],
   "metadata": {
    "collapsed": false,
    "pycharm": {
     "name": "#%%\n"
    }
   }
  }
 ],
 "metadata": {
  "kernelspec": {
   "display_name": "Python 3",
   "language": "python",
   "name": "python3"
  },
  "language_info": {
   "codemirror_mode": {
    "name": "ipython",
    "version": 2
   },
   "file_extension": ".py",
   "mimetype": "text/x-python",
   "name": "python",
   "nbconvert_exporter": "python",
   "pygments_lexer": "ipython2",
   "version": "2.7.6"
  }
 },
 "nbformat": 4,
 "nbformat_minor": 0
}