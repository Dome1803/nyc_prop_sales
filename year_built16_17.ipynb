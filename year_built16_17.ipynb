{
 "cells": [
  {
   "cell_type": "markdown",
   "metadata": {
    "collapsed": true,
    "pycharm": {
     "name": "#%% md\n"
    }
   },
   "source": [
    "## YEAR BUILT Analysis"
   ]
  },
  {
   "cell_type": "code",
   "execution_count": 8,
   "outputs": [
    {
     "name": "stdout",
     "output_type": "stream",
     "text": [
      "BOROUGH                                   object\n",
      "NEIGHBORHOOD                              object\n",
      "BUILDING CLASS CATEGORY                   object\n",
      "TAX CLASS AT PRESENT                      object\n",
      "BLOCK                                      int64\n",
      "LOT                                        int64\n",
      "EASE-MENT                                 object\n",
      "BUILDING CLASS AT PRESENT                 object\n",
      "ADDRESS                                   object\n",
      "APARTMENT NUMBER                          object\n",
      "ZIP CODE                                   int64\n",
      "RESIDENTIAL UNITS                          int64\n",
      "COMMERCIAL UNITS                           int64\n",
      "TOTAL UNITS                                int64\n",
      "LAND SQUARE FEET                          object\n",
      "GROSS SQUARE FEET                         object\n",
      "YEAR BUILT                                 int64\n",
      "TAX CLASS AT TIME OF SALE                  int64\n",
      "BUILDING CLASS AT TIME OF SALE            object\n",
      "SALE PRICE                               float64\n",
      "SALE DATE                         datetime64[ns]\n",
      "dtype: object\n",
      "The mean building year is 1950.\n",
      "The median building year is 1945.\n",
      "A total number of 7064 sales seems to be unplausible considering the building years.\n",
      "The newest property is from 2017.\n",
      "The oldest property is from 1880.\n",
      "     YEAR BUILT  COUNT\n",
      "0          1880     26\n",
      "1          1881      8\n",
      "2          1882      2\n",
      "3          1883      2\n",
      "4          1888      1\n",
      "..          ...    ...\n",
      "128        2013    743\n",
      "129        2014   1232\n",
      "130        2015   1470\n",
      "131        2016    794\n",
      "132        2017      6\n",
      "\n",
      "[133 rows x 2 columns]\n"
     ]
    },
    {
     "data": {
      "text/plain": "<Figure size 432x288 with 1 Axes>",
      "image/png": "[encoded data removed]"
     },
     "metadata": {
      "needs_background": "light"
     },
     "output_type": "display_data"
    },
    {
     "data": {
      "text/plain": "YEAR BUILT    1920\nCOUNT         6045\nName: 35, dtype: int64"
     },
     "execution_count": 8,
     "metadata": {},
     "output_type": "execute_result"
    }
   ],
   "source": [
    "# Imports\n",
    "import pandas as pd\n",
    "import functions as fc\n",
    "import matplotlib.pyplot as plt\n",
    "from sklearn.linear_model import LinearRegression\n",
    "\n",
    "# Read input file\n",
    "sales_frame = fc.read_csv(\"data/nyc-rolling-sales.csv\")\n",
    "\n",
    "\n",
    "# Dropping some unnecessary information\n",
    "sales_frame = sales_frame.drop([\"Unnamed: 0\"], axis=1)\n",
    "fc.to_csv(\"data/nyc-rolling-sales1.csv\", sales_frame)\n",
    "# Printing head of the Data Frame\n",
    "#print(sales_frame.head())\n",
    "\n",
    "# Data Types of the Data Frame pre changing\n",
    "#print(sales_frame.dtypes)\n",
    "\n",
    "# Changing format of boroughs to string (from int)\n",
    "sales_frame[\"BOROUGH\"] = sales_frame[\"BOROUGH\"].apply(str)\n",
    "# Changing format of sale price to numeric (from str)\n",
    "sales_frame[\"SALE PRICE\"] = pd.to_numeric(sales_frame[\"SALE PRICE\"], errors=\"coerce\")\n",
    "# Changing format of sale date to datetime (from str)\n",
    "sales_frame[\"SALE DATE\"] = pd.to_datetime(sales_frame[\"SALE DATE\"], errors=\"coerce\")\n",
    "\n",
    "# Replacing numbers of boroughs with actual name\n",
    "sales_frame[\"BOROUGH\"] = sales_frame[\"BOROUGH\"].replace([\"1\"], \"Manhattan\")\n",
    "sales_frame[\"BOROUGH\"] = sales_frame[\"BOROUGH\"].replace([\"2\"], \"Brooklyn\")\n",
    "sales_frame[\"BOROUGH\"] = sales_frame[\"BOROUGH\"].replace([\"3\"], \"Queens\")\n",
    "sales_frame[\"BOROUGH\"] = sales_frame[\"BOROUGH\"].replace([\"4\"], \"The Bronx\")\n",
    "sales_frame[\"BOROUGH\"] = sales_frame[\"BOROUGH\"].replace([\"5\"], \"Staten Island\")\n",
    "\n",
    "# Printing head of the Data Frame\n",
    "#print(sales_frame.head())\n",
    "\n",
    "# Data Types of the Data Frame post changing\n",
    "print(sales_frame.dtypes)\n",
    "\n",
    "# Filtering sales with \"YEAR BUILT\" > 1850 (no relevant amount of sales before)\n",
    "sales_yearbuilt_plausible = sales_frame[sales_frame[\"YEAR BUILT\"] > 1875]\n",
    "\n",
    "# determining average of column \"YEAR BUILT\"\n",
    "sales_yearbuilt_plausible_mean = sales_yearbuilt_plausible[\"YEAR BUILT\"].mean()\n",
    "print(\"The mean building year is \", int(round(sales_yearbuilt_plausible_mean, 0)), \".\", sep=\"\")\n",
    "\n",
    "sales_yearbuilt_plausible_median = sales_yearbuilt_plausible[\"YEAR BUILT\"].median()\n",
    "print(\"The median building year is \", int(round(sales_yearbuilt_plausible_median, 0)), \".\", sep=\"\")\n",
    "\n",
    "# Amount of Data that is not plausible\n",
    "sales_yearbuilt_unplausible = sales_frame[sales_frame[\"YEAR BUILT\"] < 1875]\n",
    "print(\"A total number of\", len(sales_yearbuilt_unplausible), \"sales seems to be unplausible considering the building years.\")\n",
    "\n",
    "# Newest and oldest building by \"Year Built\"\n",
    "sales_newest = sales_yearbuilt_plausible[\"YEAR BUILT\"].max()\n",
    "sales_oldest = sales_yearbuilt_plausible[\"YEAR BUILT\"].min()\n",
    "\n",
    "print(\"The newest property is from \", sales_newest, \".\", sep=\"\")\n",
    "print(\"The oldest property is from \", sales_oldest, \".\", sep=\"\")\n",
    "\n",
    "# Getting plausible dataframe with year build and count of properties\n",
    "year_built_frame = sales_yearbuilt_plausible.groupby([\"YEAR BUILT\"])\n",
    "year_built_count = year_built_frame[\"YEAR BUILT\"].count().reset_index(name=\"Index\")\n",
    "year_built_count.columns = [\"YEAR BUILT\", \"COUNT\"]\n",
    "\n",
    "print(year_built_count)\n",
    "\n",
    "# Plotting the dataframe\n",
    "xs = year_built_count[\"YEAR BUILT\"]\n",
    "ys = year_built_count[\"COUNT\"]\n",
    "\n",
    "model = LinearRegression()\n",
    "xsl = []\n",
    "for x in xs:\n",
    "    xsl.append([x])\n",
    "model.fit(xsl, ys)\n",
    "\n",
    "predicted = model.predict(xsl)\n",
    "\n",
    "plt.bar(xs, ys, label=\"YEARS PROPERTIES WERE BUILT\")\n",
    "plt.plot(xs, predicted, color=\"orange\", label=\"TREND PREDICTION\")\n",
    "plt.legend(loc=\"center left\", bbox_to_anchor=(1,0.5))\n",
    "plt.title(\"Years properties sold in 16/17 were built\")\n",
    "plt.savefig(\"data/Years properties sold in 16_17 were built.jpg\", bbox_inches=\"tight\")\n",
    "plt.show()\n",
    "\n",
    "# determining year with most properties built\n",
    "year_built_count.iloc[year_built_count[\"COUNT\"].idxmax()]\n",
    "\n",
    "\n",
    "\n"
   ],
   "metadata": {
    "collapsed": false,
    "pycharm": {
     "name": "#%%\n"
    }
   }
  }
 ],
 "metadata": {
  "kernelspec": {
   "display_name": "Python 3",
   "language": "python",
   "name": "python3"
  },
  "language_info": {
   "codemirror_mode": {
    "name": "ipython",
    "version": 2
   },
   "file_extension": ".py",
   "mimetype": "text/x-python",
   "name": "python",
   "nbconvert_exporter": "python",
   "pygments_lexer": "ipython2",
   "version": "2.7.6"
  }
 },
 "nbformat": 4,
 "nbformat_minor": 0
}